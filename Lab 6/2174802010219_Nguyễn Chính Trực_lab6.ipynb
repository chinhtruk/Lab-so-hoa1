{
  "nbformat": 4,
  "nbformat_minor": 0,
  "metadata": {
    "colab": {
      "provenance": []
    },
    "kernelspec": {
      "name": "python3",
      "display_name": "Python 3"
    },
    "language_info": {
      "name": "python"
    }
  },
  "cells": [
    {
      "cell_type": "markdown",
      "source": [
        "Bài tập"
      ],
      "metadata": {
        "id": "twbDs24V_srZ"
      }
    },
    {
      "cell_type": "code",
      "source": [
        "# Import các thư viện cần thiết\n",
        "import torch\n",
        "import numpy as np\n",
        "import pandas as pd\n",
        "import matplotlib.pyplot as plt\n",
        "from sklearn.preprocessing import LabelEncoder\n",
        "from sklearn.model_selection import train_test_split\n",
        "\n",
        "# Đọc dữ liệu từ file CSV\n",
        "file_path = \"/content/Iris.csv\"  # Thay đổi đường dẫn nếu cần\n",
        "df = pd.read_csv(file_path)\n",
        "\n",
        "# Hiển thị kích thước của dữ liệu\n",
        "print(\"🔹 Kích thước dữ liệu:\", df.shape)  # (150, 5)\n",
        "\n",
        "# Mã hóa nhãn (Species)\n",
        "le = LabelEncoder()\n",
        "X = df.drop([\"Species\"], axis=1).values  # Xóa cột Species để lấy dữ liệu đầu vào\n",
        "y = le.fit_transform(df[\"Species\"].values)  # Chuyển nhãn từ string sang số\n",
        "\n",
        "# Chia dữ liệu thành tập train (80%) và test (20%)\n",
        "X_train, X_test, y_train, y_test = train_test_split(X, y, test_size=0.2, random_state=42)\n",
        "\n",
        "# Chuyển dữ liệu thành Tensor của PyTorch\n",
        "X_train = torch.FloatTensor(X_train)\n",
        "X_test = torch.FloatTensor(X_test)\n",
        "y_train = torch.LongTensor(y_train).reshape(-1, 1)\n",
        "y_test = torch.LongTensor(y_test).reshape(-1, 1)\n",
        "\n",
        "# Hiển thị kích thước của tập train\n",
        "print(f\"🔹 Kích thước tập train: {len(y_train)}\")\n",
        "\n",
        "# Kiểm tra số lượng mẫu của từng lớp trong tập train\n",
        "labels, counts = y_train.unique(return_counts=True)\n",
        "print(\"🔹 Phân bố nhãn trong tập train:\")\n",
        "print(labels, counts)"
      ],
      "metadata": {
        "colab": {
          "base_uri": "https://localhost:8080/"
        },
        "id": "3oRETIBn_tkr",
        "outputId": "d81e3bfa-257a-4a5b-a9a7-b933c69c1a8d"
      },
      "execution_count": null,
      "outputs": [
        {
          "output_type": "stream",
          "name": "stdout",
          "text": [
            "🔹 Kích thước dữ liệu: (150, 6)\n",
            "🔹 Kích thước tập train: 120\n",
            "🔹 Phân bố nhãn trong tập train:\n",
            "tensor([0, 1, 2]) tensor([40, 41, 39])\n"
          ]
        }
      ]
    },
    {
      "cell_type": "code",
      "source": [
        "#Viết chương trình sử dụng PyTorch để tính đạo hàm của hàm số sau: y = 2x^4 + x^3 + 3x^2 + 5x + 1\n",
        "# Import thư viện PyTorch\n",
        "import torch\n",
        "\n",
        "# Tạo một tensor x với requires_grad=True để có thể tính đạo hàm\n",
        "x = torch.tensor(2.0, requires_grad=True)\n",
        "print(\"🔹 Giá trị x:\", x)\n",
        "\n",
        "# Định nghĩa hàm y = 2x^4 + x^3 + 3x^2 + 5x + 1\n",
        "y = 2*x**4 + x**3 + 3*x**2 + 5*x + 1\n",
        "print(\"🔹 Giá trị của y:\", y)\n",
        "\n",
        "# Kiểm tra thuộc tính gradient của y\n",
        "print(\"🔹 Gradient Function của y:\", y.grad_fn)\n",
        "\n",
        "# Thực hiện truyền ngược (backpropagation) để tính đạo hàm\n",
        "y.backward()\n",
        "\n",
        "# Kết quả đạo hàm dy/dx tại x = 2\n",
        "print(\"🔹 Giá trị đạo hàm tại x = 2:\", x.grad)"
      ],
      "metadata": {
        "colab": {
          "base_uri": "https://localhost:8080/"
        },
        "id": "GmZqotoMA6OG",
        "outputId": "4e032563-9314-4c43-d51c-c08288f92772"
      },
      "execution_count": null,
      "outputs": [
        {
          "output_type": "stream",
          "name": "stdout",
          "text": [
            "🔹 Giá trị x: tensor(2., requires_grad=True)\n",
            "🔹 Giá trị của y: tensor(63., grad_fn=<AddBackward0>)\n",
            "🔹 Gradient Function của y: <AddBackward0 object at 0x7c520e882aa0>\n",
            "🔹 Giá trị đạo hàm tại x = 2: tensor(93.)\n"
          ]
        }
      ]
    },
    {
      "cell_type": "code",
      "source": [
        "#Cho hàm số: y = 5x^6 + 3x^3 + 2x + x + 2x + 5x^4 + 1\n",
        "#Tính độ dốc (đạo hàm) của đa thức tại một điểm bất kỳ.\n",
        "# Import thư viện PyTorch\n",
        "import torch\n",
        "\n",
        "# Tạo một tensor x với requires_grad=True để có thể tính gradient\n",
        "x = torch.tensor(2.0, requires_grad=True)  # Thay giá trị x tại điểm bất kỳ\n",
        "\n",
        "# Định nghĩa hàm số y = 5x^6 + 3x^3 + 2x + x + 2x + 5x^4 + 1\n",
        "y = 5*x**6 + 3*x**3 + 2*x + x + 2*x + 5*x**4 + 1\n",
        "\n",
        "# Tính đạo hàm bằng backpropagation\n",
        "y.backward()\n",
        "\n",
        "# Hiển thị độ dốc (đạo hàm) tại x = 2\n",
        "print(\"🔹 Độ dốc (đạo hàm) tại x =\", x.item(), \"là:\", x.grad.item())"
      ],
      "metadata": {
        "colab": {
          "base_uri": "https://localhost:8080/"
        },
        "id": "yfL_lUmvBLnq",
        "outputId": "85288650-b319-4df5-bc2f-dfdd9741e610"
      },
      "execution_count": null,
      "outputs": [
        {
          "output_type": "stream",
          "name": "stdout",
          "text": [
            "🔹 Độ dốc (đạo hàm) tại x = 2.0 là: 1161.0\n"
          ]
        }
      ]
    },
    {
      "cell_type": "code",
      "source": [
        "# Bài tập về nhà 1\n",
        "# 1.\tTạo một tensor x có giá trị ban đầu là 2.0.\n",
        "# 2.\tĐịnh nghĩa hàm số: y = x^3 + x^2 + 5x + 1\n",
        "# 3.\tTính đạo hàm dy/dx tại giá trị x.\n",
        "# 4.\tSử dụng Gradient Descent với learning rate \\alpha = 0.1 để cập nhật giá trị x trong 10 vòng lặp.\n",
        "\n",
        "# Import thư viện PyTorch\n",
        "import torch\n",
        "\n",
        "# Bước 1: Tạo một tensor x với requires_grad=True để có thể tính gradient\n",
        "x = torch.tensor(2.0, requires_grad=True)\n",
        "\n",
        "# Bước 2: Định nghĩa hàm số y = x^3 + x^2 + 5x + 1\n",
        "y = x**3 + x**2 + 5*x + 1\n",
        "\n",
        "# Bước 3: Tính đạo hàm dy/dx bằng backpropagation\n",
        "y.backward()\n",
        "\n",
        "# Bước 4: Hiển thị kết quả đạo hàm tại x = 2\n",
        "print(\"🔹 Giá trị đạo hàm dy/dx tại x =\", x.item(), \"là:\", x.grad.item())\n",
        "\n",
        "# ---------------------------- #\n",
        "# Bước 5: Gradient Descent để cập nhật giá trị x #\n",
        "# ---------------------------- #\n",
        "\n",
        "# Reset lại giá trị của x\n",
        "x = torch.tensor(2.0, requires_grad=True)\n",
        "\n",
        "# Learning rate (tốc độ học)\n",
        "alpha = 0.1\n",
        "\n",
        "# Số vòng lặp\n",
        "epochs = 10\n",
        "\n",
        "# Vòng lặp cập nhật giá trị x bằng Gradient Descent\n",
        "for i in range(epochs):\n",
        "    # Định nghĩa lại hàm số\n",
        "    y = x**3 + x**2 + 5*x + 1\n",
        "\n",
        "    # Tính đạo hàm\n",
        "    y.backward()\n",
        "\n",
        "    # Cập nhật giá trị x theo công thức Gradient Descent: x_new = x - alpha * gradient\n",
        "    with torch.no_grad():\n",
        "        x -= alpha * x.grad  # Gradient Descent Step\n",
        "\n",
        "    # Xóa gradient cũ để tránh lỗi tích lũy\n",
        "    x.grad.zero_()\n",
        "\n",
        "    # In kết quả sau mỗi vòng lặp\n",
        "    print(f\"🔹 Epoch {i+1}: x = {x.item()}\")"
      ],
      "metadata": {
        "colab": {
          "base_uri": "https://localhost:8080/"
        },
        "id": "0yLn2PTdBpQG",
        "outputId": "e4b75710-c849-4aca-c4e7-489063ad70ea"
      },
      "execution_count": null,
      "outputs": [
        {
          "output_type": "stream",
          "name": "stdout",
          "text": [
            "🔹 Giá trị đạo hàm dy/dx tại x = 2.0 là: 21.0\n",
            "🔹 Epoch 1: x = -0.10000014305114746\n",
            "🔹 Epoch 2: x = -0.5830001831054688\n",
            "🔹 Epoch 3: x = -1.0683668851852417\n",
            "🔹 Epoch 4: x = -1.6971158981323242\n",
            "🔹 Epoch 5: x = -2.7217535972595215\n",
            "🔹 Epoch 6: x = -4.89978551864624\n",
            "🔹 Epoch 7: x = -11.622198104858398\n",
            "🔹 Epoch 8: x = -50.320404052734375\n",
            "🔹 Epoch 9: x = -800.3992919921875\n",
            "🔹 Epoch 10: x = -192832.53125\n"
          ]
        }
      ]
    },
    {
      "cell_type": "code",
      "source": [
        "# Bài tập về nhà 2\n",
        "# Tạo một tập dữ liệu giả lập với x là số giờ học (ngẫu nhiên từ 1 - 10) và y là số điểm được tính theo công thức:\n",
        "# y = 3x + 5 + noise\n",
        "# Với noise là một giá trị ngẫu nhiên nhỏ.\n",
        "# Yêu cầu:\n",
        "# \t1.\tKhởi tạo tham số w và b ngẫu nhiên với requires_grad=True.\n",
        "# \t2.\tTính MSE (Mean Squared Error).\n",
        "# \t3.\tTính gradient.\n",
        "# \t4.\tCập nhật tham số w và b bằng Gradient Descent với Learning Rate \\alpha = 0.01.\n",
        "# \t5.\tLặp lại quá trình trên trong 100 vòng lặp và quan sát sự hội tụ của mô hình.\n",
        "\n",
        "# Import thư viện cần thiết\n",
        "import torch\n",
        "import numpy as np\n",
        "import matplotlib.pyplot as plt\n",
        "\n",
        "# Bước 1: Tạo tập dữ liệu giả lập\n",
        "np.random.seed(42)  # Để tái tạo kết quả giống nhau\n",
        "torch.manual_seed(42)\n",
        "\n",
        "# Tạo dữ liệu x (số giờ học) ngẫu nhiên từ 1 - 10\n",
        "x = torch.FloatTensor(10).uniform_(1, 10)\n",
        "noise = torch.randn(x.size()) * 2  # Tạo noise ngẫu nhiên nhỏ\n",
        "\n",
        "# Tính y theo công thức y = 3x + 5 + noise\n",
        "y = 3 * x + 5 + noise\n",
        "\n",
        "# Hiển thị tập dữ liệu\n",
        "plt.scatter(x.numpy(), y.numpy(), label=\"Dữ liệu thực tế\")\n",
        "plt.xlabel(\"Giờ học\")\n",
        "plt.ylabel(\"Điểm số\")\n",
        "plt.legend()\n",
        "plt.show()\n",
        "\n",
        "# Bước 2: Khởi tạo tham số w và b ngẫu nhiên với requires_grad=True\n",
        "w = torch.randn(1, requires_grad=True)\n",
        "b = torch.randn(1, requires_grad=True)\n",
        "\n",
        "# Learning Rate và số vòng lặp\n",
        "alpha = 0.01\n",
        "epochs = 100\n",
        "\n",
        "# Lưu lại lịch sử lỗi để vẽ biểu đồ\n",
        "loss_history = []\n",
        "\n",
        "# Bước 5: Lặp quá trình Gradient Descent\n",
        "for epoch in range(epochs):\n",
        "    # Bước 3: Dự đoán y_hat = wx + b\n",
        "    y_pred = w * x + b\n",
        "\n",
        "    # Bước 4: Tính hàm mất mát MSE\n",
        "    loss = torch.mean((y_pred - y) ** 2)\n",
        "    loss_history.append(loss.item())\n",
        "\n",
        "    # Tính gradient\n",
        "    loss.backward()\n",
        "\n",
        "    # Cập nhật w và b theo Gradient Descent\n",
        "    with torch.no_grad():\n",
        "        w -= alpha * w.grad\n",
        "        b -= alpha * b.grad\n",
        "\n",
        "    # Xóa gradient cũ để tránh lỗi tích lũy\n",
        "    w.grad.zero_()\n",
        "    b.grad.zero_()\n",
        "\n",
        "    # In lỗi sau mỗi 10 vòng lặp\n",
        "    if (epoch + 1) % 10 == 0:\n",
        "        print(f\"Epoch {epoch+1}: Loss = {loss.item()}\")\n",
        "\n",
        "# Biểu đồ hội tụ của loss\n",
        "plt.plot(range(epochs), loss_history, label=\"Loss\")\n",
        "plt.xlabel(\"Epoch\")\n",
        "plt.ylabel(\"MSE Loss\")\n",
        "plt.legend()\n",
        "plt.show()\n",
        "\n",
        "# In kết quả cuối cùng của w và b\n",
        "print(f\"🔹 Giá trị cuối cùng của w: {w.item()}\")\n",
        "print(f\"🔹 Giá trị cuối cùng của b: {b.item()}\")"
      ],
      "metadata": {
        "colab": {
          "base_uri": "https://localhost:8080/",
          "height": 1000
        },
        "id": "f_64vlnZCOJi",
        "outputId": "a0b2ac89-c04f-4177-d50f-b0cb10753b91"
      },
      "execution_count": null,
      "outputs": [
        {
          "output_type": "display_data",
          "data": {
            "text/plain": [
              "<Figure size 640x480 with 1 Axes>"
            ],
            "image/png": "[encoded data removed]"
          },
          "metadata": {}
        },
        {
          "output_type": "stream",
          "name": "stdout",
          "text": [
            "Epoch 10: Loss = 6.1985626220703125\n",
            "Epoch 20: Loss = 6.101217746734619\n",
            "Epoch 30: Loss = 6.009093284606934\n",
            "Epoch 40: Loss = 5.921907424926758\n",
            "Epoch 50: Loss = 5.839390754699707\n",
            "Epoch 60: Loss = 5.761292457580566\n",
            "Epoch 70: Loss = 5.687382221221924\n",
            "Epoch 80: Loss = 5.617437839508057\n",
            "Epoch 90: Loss = 5.5512375831604\n",
            "Epoch 100: Loss = 5.488584518432617\n"
          ]
        },
        {
          "output_type": "display_data",
          "data": {
            "text/plain": [
              "<Figure size 640x480 with 1 Axes>"
            ],
            "image/png": "[encoded data removed]"
          },
          "metadata": {}
        },
        {
          "output_type": "stream",
          "name": "stdout",
          "text": [
            "🔹 Giá trị cuối cùng của w: 3.4926841259002686\n",
            "🔹 Giá trị cuối cùng của b: 1.1225351095199585\n"
          ]
        }
      ]
    },
    {
      "cell_type": "markdown",
      "source": [
        "Torch"
      ],
      "metadata": {
        "id": "c10Mm_xAQeGa"
      }
    },
    {
      "cell_type": "code",
      "source": [
        "import torch\n",
        "import numpy as np\n",
        "print(torch.__version__)  # Kiểm tra phiên bản PyTorch"
      ],
      "metadata": {
        "colab": {
          "base_uri": "https://localhost:8080/"
        },
        "id": "O1vxY1rAPxQp",
        "outputId": "cada473d-b44e-4705-be55-76933c9815f5"
      },
      "execution_count": null,
      "outputs": [
        {
          "output_type": "stream",
          "name": "stdout",
          "text": [
            "2.5.1+cu124\n"
          ]
        }
      ]
    },
    {
      "cell_type": "code",
      "source": [
        "arr = np.array([1, 2, 3, 4, 5])\n",
        "print(arr)\n",
        "print(arr.dtype)  # int64\n",
        "print(type(arr))  # <class 'numpy.ndarray'>\n",
        "\n",
        "x = torch.from_numpy(arr)\n",
        "print(x)\n",
        "print(x.dtype)  # torch.int64\n",
        "print(x.type())  # torch.LongTensor"
      ],
      "metadata": {
        "colab": {
          "base_uri": "https://localhost:8080/"
        },
        "id": "XVPZ0UvXQOx8",
        "outputId": "8b75b5d9-c8d4-48bf-a22c-992a23ece1bd"
      },
      "execution_count": null,
      "outputs": [
        {
          "output_type": "stream",
          "name": "stdout",
          "text": [
            "[1 2 3 4 5]\n",
            "int64\n",
            "<class 'numpy.ndarray'>\n",
            "tensor([1, 2, 3, 4, 5])\n",
            "torch.int64\n",
            "torch.LongTensor\n"
          ]
        }
      ]
    },
    {
      "cell_type": "code",
      "source": [
        "arr2 = np.arange(0., 12.).reshape(4, 3)\n",
        "print(arr2)\n",
        "\n",
        "x2 = torch.from_numpy(arr2)\n",
        "print(x2)\n",
        "print(x2.type())  # torch.DoubleTensor"
      ],
      "metadata": {
        "colab": {
          "base_uri": "https://localhost:8080/"
        },
        "id": "txLJnLtdQP8a",
        "outputId": "2fcd3f2e-875a-48d5-fdf9-43cd444448ff"
      },
      "execution_count": null,
      "outputs": [
        {
          "output_type": "stream",
          "name": "stdout",
          "text": [
            "[[ 0.  1.  2.]\n",
            " [ 3.  4.  5.]\n",
            " [ 6.  7.  8.]\n",
            " [ 9. 10. 11.]]\n",
            "tensor([[ 0.,  1.,  2.],\n",
            "        [ 3.,  4.,  5.],\n",
            "        [ 6.,  7.,  8.],\n",
            "        [ 9., 10., 11.]], dtype=torch.float64)\n",
            "torch.DoubleTensor\n"
          ]
        }
      ]
    },
    {
      "cell_type": "code",
      "source": [
        "arr = np.arange(0, 5)\n",
        "x = torch.from_numpy(arr)\n",
        "print(x)\n",
        "\n",
        "arr[0] = 99  # Thay đổi giá trị của mảng NumPy\n",
        "print(x)  # Giá trị của tensor cũng thay đổi vì `from_numpy` sử dụng chung bộ nhớ với NumPy\n",
        "\n",
        "arr = np.arange(0, 5)\n",
        "x = torch.tensor(arr)  # Tạo tensor mới từ NumPy nhưng không chia sẻ bộ nhớ\n",
        "print(x)\n",
        "\n",
        "arr[0] = 99\n",
        "print(x)  # Tensor không thay đổi"
      ],
      "metadata": {
        "colab": {
          "base_uri": "https://localhost:8080/"
        },
        "id": "e3jAvaC6QSXX",
        "outputId": "f885befe-f1f6-4c2a-d28c-2af0e4c3c343"
      },
      "execution_count": null,
      "outputs": [
        {
          "output_type": "stream",
          "name": "stdout",
          "text": [
            "tensor([0, 1, 2, 3, 4])\n",
            "tensor([99,  1,  2,  3,  4])\n",
            "tensor([0, 1, 2, 3, 4])\n",
            "tensor([0, 1, 2, 3, 4])\n"
          ]
        }
      ]
    },
    {
      "cell_type": "code",
      "source": [
        "# BTVN 3: Giải thích lý do tại sao cho 2 trường hợp trên\n",
        "# Khi tạo một tensor từ mảng NumPy, cách thực hiện sẽ quyết định liệu tensor có chia sẻ bộ nhớ với mảng gốc hay không.\n",
        "# \t1.\tTrường hợp chia sẻ bộ nhớ (torch.from_numpy):\n",
        "# \t•\tTensor được tạo ra sử dụng chung bộ nhớ với mảng NumPy. Điều này có nghĩa là bất kỳ thay đổi nào trên mảng NumPy cũng sẽ ảnh hưởng trực tiếp đến tensor.\n",
        "# \t•\tNếu giá trị trong mảng NumPy thay đổi, giá trị tương ứng trong tensor cũng sẽ thay đổi theo.\n",
        "# \t2.\tTrường hợp không chia sẻ bộ nhớ (torch.tensor):\n",
        "# \t•\tMột bản sao độc lập của dữ liệu từ NumPy được tạo ra trong bộ nhớ của PyTorch.\n",
        "# \t•\tKhi đó, dù mảng NumPy có thay đổi sau này, tensor vẫn giữ nguyên giá trị ban đầu và không bị ảnh hưởng.\n",
        "\n",
        "# Vì vậy, nếu muốn tensor phản ánh mọi thay đổi của mảng NumPy, hãy sử dụng torch.from_numpy. Ngược lại, nếu cần một tensor độc lập, không bị ảnh hưởng bởi mảng gốc, torch.tensor là lựa chọn phù hợp."
      ],
      "metadata": {
        "id": "OJUa5IbPQbV2"
      },
      "execution_count": null,
      "outputs": []
    },
    {
      "cell_type": "code",
      "source": [
        "# BTVN 4: bạn hãy giúp thầy về nhà tạo tensor với:\n",
        "# - Empty\n",
        "# - Zeros\n",
        "# - Ones\n",
        "# - Random\n",
        "# - Reshape với view và view as\n",
        "import torch\n",
        "\n",
        "# 1. Tạo tensor rỗng (empty)\n",
        "empty_tensor = torch.empty(3, 3)  # Tạo tensor 3x3 với giá trị chưa khởi tạo\n",
        "print(\"Empty Tensor:\")\n",
        "print(empty_tensor)\n",
        "\n",
        "# 2. Tạo tensor toàn số 0 (zeros)\n",
        "zeros_tensor = torch.zeros(3, 3)  # Tạo tensor 3x3 chứa toàn số 0\n",
        "print(\"\\nZeros Tensor:\")\n",
        "print(zeros_tensor)\n",
        "\n",
        "# 3. Tạo tensor toàn số 1 (ones)\n",
        "ones_tensor = torch.ones(3, 3)  # Tạo tensor 3x3 chứa toàn số 1\n",
        "print(\"\\nOnes Tensor:\")\n",
        "print(ones_tensor)\n",
        "\n",
        "# 4. Tạo tensor với giá trị ngẫu nhiên (rand)\n",
        "random_tensor = torch.rand(3, 3)  # Tạo tensor 3x3 với giá trị ngẫu nhiên trong khoảng [0,1]\n",
        "print(\"\\nRandom Tensor:\")\n",
        "print(random_tensor)\n",
        "\n",
        "# 5. Thay đổi kích thước tensor với view() và view_as()\n",
        "x = torch.arange(12)  # Tạo tensor 1D có 12 phần tử từ 0 đến 11\n",
        "reshaped_tensor = x.view(3, 4)  # Reshape thành (3x4)\n",
        "print(\"\\nReshaped Tensor (using view):\")\n",
        "print(reshaped_tensor)\n",
        "\n",
        "y = torch.zeros_like(reshaped_tensor)  # Tạo tensor có cùng kích thước với reshaped_tensor\n",
        "new_tensor = x.view_as(y)  # Reshape x theo kích thước của y\n",
        "print(\"\\nTensor Reshaped Using view_as:\")\n",
        "print(new_tensor)"
      ],
      "metadata": {
        "colab": {
          "base_uri": "https://localhost:8080/"
        },
        "id": "FOa7iP9qQkod",
        "outputId": "85c474ad-296c-40d6-da9f-62606b8e53bb"
      },
      "execution_count": null,
      "outputs": [
        {
          "output_type": "stream",
          "name": "stdout",
          "text": [
            "Empty Tensor:\n",
            "tensor([[1.7466e-33, 0.0000e+00, 1.5002e-33],\n",
            "        [0.0000e+00, 1.1210e-43, 0.0000e+00],\n",
            "        [1.1210e-43, 0.0000e+00, 9.3957e-34]])\n",
            "\n",
            "Zeros Tensor:\n",
            "tensor([[0., 0., 0.],\n",
            "        [0., 0., 0.],\n",
            "        [0., 0., 0.]])\n",
            "\n",
            "Ones Tensor:\n",
            "tensor([[1., 1., 1.],\n",
            "        [1., 1., 1.],\n",
            "        [1., 1., 1.]])\n",
            "\n",
            "Random Tensor:\n",
            "tensor([[0.5469, 0.2831, 0.7414],\n",
            "        [0.2805, 0.0366, 0.3406],\n",
            "        [0.6120, 0.8845, 0.0392]])\n",
            "\n",
            "Reshaped Tensor (using view):\n",
            "tensor([[ 0,  1,  2,  3],\n",
            "        [ 4,  5,  6,  7],\n",
            "        [ 8,  9, 10, 11]])\n",
            "\n",
            "Tensor Reshaped Using view_as:\n",
            "tensor([[ 0,  1,  2,  3],\n",
            "        [ 4,  5,  6,  7],\n",
            "        [ 8,  9, 10, 11]])\n"
          ]
        }
      ]
    },
    {
      "cell_type": "code",
      "source": [
        "def mean_confidence_interval(lower_limits, upper_limits, counts, confidence_level):\n",
        "    # Lọc bỏ giá trị None\n",
        "    valid_lower = [x for x in lower_limits if x is not None]\n",
        "    valid_upper = [x for x in upper_limits if x is not None]\n",
        "\n",
        "    # Tính trung bình của các giá trị hợp lệ\n",
        "    lower_mean = sum(valid_lower) / len(valid_lower) if valid_lower else 0\n",
        "    upper_mean = sum(valid_upper) / len(valid_upper) if valid_upper else 0\n",
        "\n",
        "    return lower_mean, upper_mean"
      ],
      "metadata": {
        "id": "wSQ7kBJnTQ-R"
      },
      "execution_count": null,
      "outputs": []
    },
    {
      "cell_type": "code",
      "source": [
        "def main():\n",
        "    # Chiều cao giới hạn dưới và trên tương ứng cho mỗi nhóm và số lượng cây trong mỗi nhóm\n",
        "    lower_limits = [None, 180, 190, 200, 210, 220, 230]\n",
        "    upper_limits = [180, 190, 200, 210, 220, 230, None]\n",
        "    counts = [3, 12, 35, 70, 62, 33, 8]\n",
        "    confidence_level = 0.99\n",
        "\n",
        "    lower_bound, upper_bound = mean_confidence_interval(lower_limits, upper_limits, counts, confidence_level)\n",
        "    print(f'\\nKhoảng ước lượng trung bình chiều cao cây với độ tin cậy {confidence_level * 100}%: '\n",
        "          f'({lower_bound:.3f}, {upper_bound:.3f})')\n",
        "\n",
        "main()"
      ],
      "metadata": {
        "colab": {
          "base_uri": "https://localhost:8080/"
        },
        "id": "IdeOGUWcSgDX",
        "outputId": "fbc73584-ebde-4d0a-dbb5-61b954ff2389"
      },
      "execution_count": null,
      "outputs": [
        {
          "output_type": "stream",
          "name": "stdout",
          "text": [
            "\n",
            "Khoảng ước lượng trung bình chiều cao cây với độ tin cậy 99.0%: (205.000, 205.000)\n"
          ]
        }
      ]
    }
  ]
}
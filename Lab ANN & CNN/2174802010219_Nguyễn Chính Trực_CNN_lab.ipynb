{
  "cells": [
    {
      "cell_type": "markdown",
      "metadata": {
        "id": "qXNScvrzLGS2"
      },
      "source": [
        "# Convolutional Neural Network (CNN)\n",
        "\n",
        "## 1. CNN là gì?\n",
        "\n",
        "CNN (Convolutional Neural Network) là một loại mạng nơ-ron nhân tạo giúp máy tính \"nhìn\" và hiểu ảnh, tương tự cách con người nhận diện vật thể trong đời thực. Thay vì xem toàn bộ ảnh một lúc như mạng nơ-ron thông thường (fully connected), CNN chia nhỏ ảnh ra, tìm các đặc trưng như đường thẳng, góc, vòng tròn, rồi ghép lại để đoán xem ảnh đó là gì.\n",
        "\n",
        "**Ví dụ đời thực**: Khi ta nhìn một con mèo, không cần xem hết cả ảnh ngay lập tức. Ta nhận ra tai mèo (hình tam giác), mắt mèo (hình tròn), ria mèo (đường thẳng), rồi kết luận \"Đây là mèo\". CNN cũng làm như vậy bằng cách dùng các \"kính lúp\" nhỏ quét qua ảnh từng phần một.\n",
        "\n",
        "**Ví dụ cụ thể**: Hãy tưởng tượng chúng ta có một ảnh số \"7\". CNN sẽ tìm đường ngang ở trên cùng và đường chéo bên dưới để nhận ra đó là số \"7\".\n",
        "\n",
        "---\n",
        "\n",
        "## 2. Các thành phần chính của CNN\n",
        "\n",
        "### 2.1. Tầng tích chập (Convolution Layer)\n",
        "\n",
        "Đây là bước quan trọng nhất, giống như \"đôi mắt\" của CNN, giúp tìm các đặc trưng nhỏ trong ảnh như cạnh, góc, hoặc đường cong.\n",
        "\n",
        "#### Ý tưởng cơ bản\n",
        "- chúng ta có một ảnh, giả sử kích thước là $5 \\times 5$ pixel.\n",
        "- Dùng một **bộ lọc** (filter/kernel), ví dụ $3 \\times 3$, như một \"kính lúp\" nhỏ để quét qua ảnh.\n",
        "- Kết quả là một **feature map** (bản đồ đặc trưng), cho biết chỗ nào trong ảnh có đặc trưng mà bộ lọc tìm được.\n",
        "\n",
        "#### Công thức tích chập\n",
        "Công thức toán học của tích chập là:\n",
        "\n",
        "$$ S(i, j) = \\sum_{m=0}^{F-1} \\sum_{n=0}^{F-1} I(i+m, j+n) \\cdot K(m, n) $$\n",
        "\n",
        "- $I$: Ảnh đầu vào (input image).\n",
        "- $K$: Bộ lọc (kernel/filter).\n",
        "- $F$: Kích thước bộ lọc (ví dụ $F=3$ nếu là $3 \\times 3$).\n",
        "- $S(i, j)$: Giá trị tại vị trí $(i, j)$ trong feature map.\n",
        "\n",
        "**Giải thích đơn giản**: Lấy từng vùng nhỏ của ảnh (cùng kích thước với bộ lọc), nhân từng số trong vùng với số tương ứng trong bộ lọc, rồi cộng tất cả lại để ra một số mới.\n",
        "\n",
        "#### Ví dụ minh họa với số \"7\"\n",
        "Giả sử ảnh đầu vào $5 \\times 5$ là một phần của số \"7\":\n",
        "\n",
        "$$ I = \\begin{bmatrix} 1 & 1 & 1 & 0 & 0 \\\\ 0 & 0 & 1 & 0 & 0 \\\\ 0 & 0 & 1 & 1 & 0 \\\\ 0 & 0 & 0 & 1 & 0 \\\\ 0 & 0 & 0 & 1 & 1 \\end{bmatrix} $$\n",
        "\n",
        "- Số 1 là nét vẽ của \"7\", số 0 là nền trắng.\n",
        "\n",
        "Bộ lọc $K$ tìm đường ngang, kích thước $3 \\times 3$:\n",
        "\n",
        "$$ K = \\begin{bmatrix} 1 & 1 & 1 \\\\ 0 & 0 & 0 \\\\ -1 & -1 & -1 \\end{bmatrix} $$\n",
        "\n",
        "**Bước 1: Tính tại vị trí $(0, 0)$**:\n",
        "- Lấy vùng $3 \\times 3$ từ góc trên bên trái của ảnh $I$:\n",
        "\n",
        "$$ \\begin{bmatrix} 1 & 1 & 1 \\\\ 0 & 0 & 1 \\\\ 0 & 0 & 1 \\end{bmatrix} $$\n",
        "\n",
        "- Nhân từng phần tử với bộ lọc $K$:\n",
        "\n",
        "$$ \\begin{bmatrix} 1 \\cdot 1 & 1 \\cdot 1 & 1 \\cdot 1 \\\\ 0 \\cdot 0 & 0 \\cdot 0 & 1 \\cdot 0 \\\\ 0 \\cdot -1 & 0 \\cdot -1 & 1 \\cdot -1 \\end{bmatrix} = \\begin{bmatrix} 1 & 1 & 1 \\\\ 0 & 0 & 0 \\\\ 0 & 0 & -1 \\end{bmatrix} $$\n",
        "\n",
        "- Cộng tất cả các giá trị lại:\n",
        "\n",
        "$$ 1 + 1 + 1 + 0 + 0 + 0 + 0 + 0 + (-1) = 2 $$\n",
        "\n",
        "Vậy $S(0, 0) = 2$ (phát hiện đường ngang mạnh).\n",
        "\n",
        "**Bước 2: Tính tại vị trí $(1, 1)$**:\n",
        "- Trượt bộ lọc xuống dưới và sang phải, lấy vùng $3 \\times 3$ mới:\n",
        "\n",
        "$$ \\begin{bmatrix} 0 & 1 & 0 \\\\ 0 & 1 & 1 \\\\ 0 & 1 & 0 \\end{bmatrix} $$\n",
        "\n",
        "- Nhân với bộ lọc $K$:\n",
        "\n",
        "$$ \\begin{bmatrix} 0 \\cdot 1 & 1 \\cdot 1 & 0 \\cdot 1 \\\\ 0 \\cdot 0 & 1 \\cdot 0 & 1 \\cdot 0 \\\\ 0 \\cdot -1 & 1 \\cdot -1 & 0 \\cdot -1 \\end{bmatrix} = \\begin{bmatrix} 0 & 1 & 0 \\\\ 0 & 0 & 0 \\\\ 0 & -1 & 0 \\end{bmatrix} $$\n",
        "\n",
        "- Cộng lại:\n",
        "\n",
        "$$ 0 + 1 + 0 + 0 + 0 + 0 + 0 + (-1) + 0 = 0 $$\n",
        "\n",
        "Vậy $S(1, 1) = 0$ (không có đường ngang rõ ràng ở đây).\n",
        "\n",
        "**Feature map hoàn chỉnh**:\n",
        "- Lặp lại quá trình trên cho toàn bộ ảnh, ta được feature map kích thước $3 \\times 3$ (vì $5-3+1=3$):\n",
        "\n",
        "$$ S = \\begin{bmatrix} 2 & 1 & 0 \\\\ 1 & 0 & 0 \\\\ 0 & 0 & 1 \\end{bmatrix} $$\n",
        "\n",
        "#### Hình minh họa\n",
        "\n",
        "![image.png](attachment:image.png)\n",
        "\n",
        "Kết quả bao gồm:\n",
        "- Ảnh gốc: Số \"7\" đơn giản hóa với nét vẽ (1) và nền trắng (0).\n",
        "- Feature map: Làm nổi bật đường ngang ở trên cùng (giá trị 2), các vùng khác ít rõ hơn (giá trị nhỏ hoặc 0).\n",
        "\n",
        "#### Padding và Stride\n",
        "- **Padding ($P$)**: Thêm số 0 quanh ảnh để giữ kích thước đầu ra. Nếu $P=0$ (như ví dụ trên), feature map nhỏ hơn ảnh gốc.\n",
        "- **Stride ($S$)**: Bước trượt của bộ lọc. Nếu $S=1$ (như ví dụ), bộ lọc trượt từng pixel một; nếu $S=2$, nó nhảy cách 2 pixel.\n",
        "\n",
        "Công thức tính kích thước đầu ra:\n",
        "\n",
        "$$ \\text{Output Height} = \\frac{H - F + 2P}{S} + 1 $$\n",
        "\n",
        "$$ \\text{Output Width} = \\frac{W - F + 2P}{S} + 1 $$\n",
        "\n",
        "- $H$, $W$: Chiều cao và chiều rộng của ảnh gốc.\n",
        "- Ví dụ: Với $H=W=5$, $F=3$, $P=0$, $S=1$, ta có $\\frac{5-3+0}{1}+1 = 3$, đúng với kích thước feature map $3 \\times 3$.\n",
        "\n",
        "---\n",
        "\n",
        "### 2.2. Hàm kích hoạt (ReLU)\n",
        "\n",
        "Sau khi có feature map từ tầng tích chập, ta dùng hàm ReLU để \"lọc\" nó, giữ lại các đặc trưng rõ ràng và loại bỏ những phần không quan trọng.\n",
        "\n",
        "#### Công thức\n",
        "$$ \\text{ReLU}(x) = \\max(0, x) $$\n",
        "\n",
        "**Giải thích đơn giản**:\n",
        "- Nếu số lớn hơn 0, giữ nguyên.\n",
        "- Nếu số nhỏ hơn hoặc bằng 0, biến thành 0.\n",
        "\n",
        "#### Ví dụ\n",
        "Feature map từ số \"7\" ở trên:\n",
        "\n",
        "$$ S = \\begin{bmatrix} 2 & 1 & 0 \\\\ 1 & 0 & 0 \\\\ 0 & 0 & 1 \\end{bmatrix} $$\n",
        "\n",
        "Áp dụng ReLU (không có số âm nên không đổi):\n",
        "\n",
        "$$ \\text{ReLU}(S) = \\begin{bmatrix} 2 & 1 & 0 \\\\ 1 & 0 & 0 \\\\ 0 & 0 & 1 \\end{bmatrix} $$\n",
        "\n",
        "**Ví dụ khác với số âm**:\n",
        "Giả sử feature map có một số giá trị âm:\n",
        "\n",
        "$$ S = \\begin{bmatrix} 2 & -1 & 0 \\\\ 1 & -2 & 0 \\\\ 0 & 0 & 1 \\end{bmatrix} $$\n",
        "\n",
        "Sau khi áp dụng ReLU:\n",
        "\n",
        "$$ \\text{ReLU}(S) = \\begin{bmatrix} 2 & 0 & 0 \\\\ 1 & 0 & 0 \\\\ 0 & 0 & 1 \\end{bmatrix} $$\n",
        "\n",
        "**Ý nghĩa**:\n",
        "- Các giá trị âm (như -1, -2) thường là những vùng không rõ đặc trưng, nên bị loại bỏ.\n",
        "- Các giá trị dương (như 2, 1) là những nét chính (đường ngang, đường chéo), được giữ lại.\n",
        "\n",
        "#### Hình minh họa\n",
        "\n",
        "![image-2.png](attachment:image-2.png)\n",
        "\n",
        " Kết quả bao gồm:\n",
        "- Trước ReLU: Feature map có các giá trị âm (màu tối).\n",
        "- Sau ReLU: Chỉ giữ lại các giá trị dương (màu sáng), làm rõ nét chính.\n",
        "\n",
        "---\n",
        "\n",
        "### 2.3. Tầng Pooling (Pooling Layer)\n",
        "\n",
        "Pooling giống như \"tóm tắt\" feature map, giảm kích thước để tiết kiệm tính toán nhưng vẫn giữ được thông tin quan trọng.\n",
        "\n",
        "#### Loại phổ biến: Max Pooling\n",
        "- Lấy giá trị lớn nhất trong một vùng nhỏ, thường là $2 \\times 2$.\n",
        "\n",
        "#### Công thức\n",
        "$$ P(i, j) = \\max(I(2i:2i+2, 2j:2j+2)) $$\n",
        "\n",
        "**Giải thích đơn giản**: Chia feature map thành các ô $2 \\times 2$, chọn số lớn nhất trong mỗi ô để tạo feature map nhỏ hơn.\n",
        "\n",
        "#### Ví dụ với số \"7\"\n",
        "Giả sử feature map lớn hơn một chút, kích thước $4 \\times 4$:\n",
        "\n",
        "$$ \\begin{bmatrix} 2 & 1 & 0 & 0 \\\\ 1 & 2 & 1 & 0 \\\\ 0 & 1 & 2 & 1 \\\\ 0 & 0 & 1 & 2 \\end{bmatrix} $$\n",
        "\n",
        "Áp dụng Max Pooling với vùng $2 \\times 2$, stride = 2 (các vùng không chồng lấp):\n",
        "- Vùng 1 (góc trên trái): $\\max(2, 1, 1, 2) = 2$\n",
        "- Vùng 2 (góc trên phải): $\\max(0, 0, 1, 0) = 1$\n",
        "- Vùng 3 (góc dưới trái): $\\max(0, 1, 0, 0) = 1$\n",
        "- Vùng 4 (góc dưới phải): $\\max(2, 1, 1, 2) = 2$\n",
        "\n",
        "Kết quả feature map sau pooling:\n",
        "\n",
        "$$ \\begin{bmatrix} 2 & 1 \\\\ 1 & 2 \\end{bmatrix} $$\n",
        "\n",
        "**Ý nghĩa**:\n",
        "- Kích thước giảm từ $4 \\times 4$ xuống $2 \\times 2$.\n",
        "- Giữ lại các giá trị lớn (nét chính), bỏ bớt chi tiết nhỏ.\n",
        "\n",
        "#### Hình minh họa\n",
        "\n",
        "![image-3.png](attachment:image-3.png)\n",
        "\n",
        "Kết quả bao gồm:\n",
        "- Trước pooling: Feature map $4 \\times 4$ với nhiều chi tiết.\n",
        "- Sau pooling: Feature map $2 \\times 2$, chỉ giữ các nét chính.\n",
        "\n",
        "---\n",
        "\n",
        "### 2.4. Tầng Fully Connected (FC Layer)\n",
        "\n",
        "Đây là bước cuối cùng, nơi CNN ghép tất cả đặc trưng lại để đoán xem ảnh là gì.\n",
        "\n",
        "#### Công thức\n",
        "$$ y = Wx + b $$\n",
        "\n",
        "- $x$: Vector từ feature map duỗi ra.\n",
        "- $W$: Ma trận trọng số.\n",
        "- $b$: Bias (độ lệch).\n",
        "\n",
        "**Giải thích đơn giản**: Lấy feature map cuối, \"duỗi\" thành một hàng số, rồi nhân với trọng số để ra kết quả phân loại.\n",
        "\n",
        "#### Ví dụ\n",
        "Feature map sau pooling:\n",
        "\n",
        "$$ \\begin{bmatrix} 2 & 1 \\\\ 1 & 2 \\end{bmatrix} $$\n",
        "\n",
        "Duỗi thành vector $x = [2, 1, 1, 2]$ (4 phần tử).\n",
        "\n",
        "Giả sử ta phân loại 2 lớp (số \"7\" hoặc không phải \"7\"), với:\n",
        "- Ma trận trọng số:\n",
        "\n",
        "$$ W = \\begin{bmatrix} 0.5 & 0.2 & 0.3 & 0.4 \\\\ -0.1 & 0.3 & 0.2 & -0.5 \\end{bmatrix} $$\n",
        "\n",
        "- Bias:\n",
        "\n",
        "$$ b = \\begin{bmatrix} 0.1 \\\\ 0.2 \\end{bmatrix} $$\n",
        "\n",
        "Tính $y$:\n",
        "- $y_0 = (0.5 \\cdot 2 + 0.2 \\cdot 1 + 0.3 \\cdot 1 + 0.4 \\cdot 2) + 0.1 = 1 + 0.2 + 0.3 + 0.8 + 0.1 = 2.4$\n",
        "- $y_1 = (-0.1 \\cdot 2 + 0.3 \\cdot 1 + 0.2 \\cdot 1 + -0.5 \\cdot 2) + 0.2 = -0.2 + 0.3 + 0.2 - 1 + 0.2 = -0.5$\n",
        "\n",
        "Kết quả: $y = [2.4, -0.5]$.\n",
        "- $y_0 = 2.4$ (lớp \"7\") lớn hơn $y_1 = -0.5$ (lớp \"không phải 7\"), nên CNN đoán đây là số \"7\".\n",
        "\n",
        "**Ý nghĩa**: Tầng này giống như \"bộ não\" quyết định, dựa trên các đặc trưng đã tìm được.\n",
        "\n",
        "---\n",
        "\n",
        "## 3. Tổng hợp lại cả quy trình CNN\n",
        "\n",
        "Dưới đây là các bước CNN xử lý ảnh số \"7\":\n",
        "\n",
        "1. **Tích chập**: Tìm đặc trưng như đường ngang, đường chéo → Feature map $S$.\n",
        "2. **ReLU**: Lọc bỏ các nét mờ (giá trị âm) → Feature map rõ hơn.\n",
        "3. **Pooling**: Tóm tắt, giảm kích thước → Feature map nhỏ gọn.\n",
        "4. **Fully Connected**: Ghép các đặc trưng, đoán xem là số \"7\".\n",
        "\n",
        "#### Hình minh họa tổng hợp\n",
        "\n",
        "![image-4.png](attachment:image-4.png)\n",
        "\n",
        "Kết quả bao gồm:\n",
        "- **Ảnh gốc**: Số \"7\" đơn giản hóa.\n",
        "- **Sau tích chập**: Làm nổi bật đường ngang và một phần đường chéo.\n",
        "- **Sau ReLU**: Giữ nguyên vì không có số âm trong ví dụ này.\n",
        "- **Sau Pooling**: Giảm kích thước, giữ nét chính.\n",
        "\n",
        "---\n",
        "\n",
        "## 4. Ứng dụng thực tế\n",
        "\n",
        "CNN không chỉ nhận diện số \"7\" mà còn được dùng trong:\n",
        "- **Nhận diện khuôn mặt**: Facebook dùng CNN để gắn thẻ bạn bè trong ảnh.\n",
        "- **Xe tự lái**: Phát hiện biển báo, người đi bộ qua camera.\n",
        "- **Y khoa**: Phân tích ảnh X-quang để tìm bệnh.\n",
        "\n",
        "**Kết luận**: Từ ví dụ đơn giản với số \"7\", chúng ta có thể đã thấy CNN hoạt động như thế nào. Hãy thử tưởng tượng nó nhận diện số \"3\" (có đường cong) hoặc \"0\" (hình tròn) như thế nào nha :))) !"
      ]
    },
    {
      "cell_type": "markdown",
      "metadata": {
        "id": "BEAE8AcyLGS6"
      },
      "source": [
        "## BÀI TẬP VẬN DỤNG - NHẬN DIỆN CHỮ VIẾT TAY"
      ]
    },
    {
      "cell_type": "code",
      "execution_count": null,
      "metadata": {
        "colab": {
          "base_uri": "https://localhost:8080/"
        },
        "id": "bl7xRTE3LGS7",
        "outputId": "363f5a85-794d-4905-b07b-c012274254fc"
      },
      "outputs": [
        {
          "output_type": "stream",
          "name": "stderr",
          "text": [
            "100%|██████████| 9.91M/9.91M [00:00<00:00, 17.5MB/s]\n",
            "100%|██████████| 28.9k/28.9k [00:00<00:00, 476kB/s]\n",
            "100%|██████████| 1.65M/1.65M [00:00<00:00, 4.41MB/s]\n",
            "100%|██████████| 4.54k/4.54k [00:00<00:00, 7.48MB/s]\n"
          ]
        }
      ],
      "source": [
        "import torch\n",
        "import torch.nn as nn\n",
        "import torch.optim as optim\n",
        "import torchvision\n",
        "import torchvision.transforms as transforms\n",
        "import matplotlib.pyplot as plt\n",
        "import numpy as np\n",
        "\n",
        "# 1. Tải dữ liệu MNIST\n",
        "transform = transforms.ToTensor()  # Chuyển ảnh thành tensor\n",
        "train_dataset = torchvision.datasets.MNIST(root='./data', train=True, download=True, transform=transform)\n",
        "test_dataset = torchvision.datasets.MNIST(root='./data', train=False, download=True, transform=transform)\n",
        "\n",
        "train_loader = torch.utils.data.DataLoader(train_dataset, batch_size=64, shuffle=True)\n",
        "test_loader = torch.utils.data.DataLoader(test_dataset, batch_size=64, shuffle=False)\n"
      ]
    },
    {
      "cell_type": "markdown",
      "metadata": {
        "id": "Osdpg7NcLGS7"
      },
      "source": [
        "## XÂY DỰNG MÔ HÌNH CNN CƠ BẢN"
      ]
    },
    {
      "cell_type": "code",
      "execution_count": null,
      "metadata": {
        "id": "i9PDonTRLGS7"
      },
      "outputs": [],
      "source": [
        "# 2. Định nghĩa mô hình CNN\n",
        "class MNIST_CNN(nn.Module):  # Tạo lớp MNIST_CNN kế thừa từ nn.Module (lớp cơ bản của PyTorch)\n",
        "    def __init__(self):  # Hàm khởi tạo mô hình\n",
        "        super(MNIST_CNN, self).__init__()  # Gọi hàm khởi tạo của lớp cha (nn.Module)\n",
        "        # Tầng tích chập 1: 1 kênh đầu vào (ảnh đen trắng) -> 16 kênh đầu ra, filter 3x3\n",
        "        self.conv1 = nn.Conv2d(1, 16, kernel_size=3, stride=1, padding=0)  # Tích chập giảm kích thước từ 28x28 -> 26x26\n",
        "        # Tầng tích chập 2: 16 kênh đầu vào -> 32 kênh đầu ra, filter 3x3\n",
        "        self.conv2 = nn.Conv2d(16, 32, kernel_size=3, stride=1, padding=0)  # Tích chập giảm từ 12x12 -> 10x10 (sau pooling)\n",
        "        # Tầng pooling: vùng 2x2, giảm kích thước một nửa\n",
        "        self.pool = nn.MaxPool2d(kernel_size=2, stride=2)  # Ví dụ: 26x26 -> 13x13, 10x10 -> 5x5\n",
        "        # Tầng fully connected: từ 32 kênh * 5x5 (800) -> 10 lớp (0-9)\n",
        "        self.fc1 = nn.Linear(32 * 5 * 5, 10)  # Duỗi feature map thành vector rồi phân loại\n",
        "\n",
        "    def forward(self, x):  # Hàm forward định nghĩa luồng dữ liệu qua các tầng\n",
        "        x = self.pool(torch.relu(self.conv1(x)))  # Conv1 -> ReLU (loại giá trị âm) -> Pool (giảm kích thước)\n",
        "        x = self.pool(torch.relu(self.conv2(x)))  # Conv2 -> ReLU -> Pool, cuối cùng ra 32x5x5\n",
        "        x = x.view(-1, 32 * 5 * 5)  # Duỗi tensor thành vector, -1 tự động tính batch size\n",
        "        x = self.fc1(x)  # Qua tầng fully connected, ra 10 giá trị (logits cho 0-9)\n",
        "        return x  # Trả về kết quả dự đoán"
      ]
    },
    {
      "cell_type": "markdown",
      "metadata": {
        "id": "fltEY1UQLGS8"
      },
      "source": [
        "## Khởi tạo mô hình\n"
      ]
    },
    {
      "cell_type": "code",
      "execution_count": null,
      "metadata": {
        "id": "iX1yANKOLGS8"
      },
      "outputs": [],
      "source": [
        "# Khởi tạo mô hình\n",
        "model = MNIST_CNN()  # Tạo một instance của lớp MNIST_CNN\n",
        "criterion = nn.CrossEntropyLoss()  # Định nghĩa hàm mất mát CrossEntropy (dùng cho phân loại nhiều lớp)\n",
        "optimizer = optim.SGD(model.parameters(), lr=0.01, momentum=0.9)  # Dùng SGD với learning rate 0.01 và momentum 0.9 để tối ưu"
      ]
    },
    {
      "cell_type": "markdown",
      "metadata": {
        "id": "bLUdEjR-LGS8"
      },
      "source": [
        "## Huấn luyện mô hình"
      ]
    },
    {
      "cell_type": "code",
      "execution_count": null,
      "metadata": {
        "colab": {
          "base_uri": "https://localhost:8080/"
        },
        "id": "efMYX9U9LGS8",
        "outputId": "859d6bbc-bdcc-49c9-e265-5da94ead673e"
      },
      "outputs": [
        {
          "output_type": "stream",
          "name": "stdout",
          "text": [
            "Epoch 1, Loss: 0.2875\n",
            "Epoch 2, Loss: 0.0878\n",
            "Epoch 3, Loss: 0.0666\n",
            "Epoch 4, Loss: 0.0563\n",
            "Epoch 5, Loss: 0.0479\n"
          ]
        }
      ],
      "source": [
        "# 3. Huấn luyện mô hình\n",
        "device = torch.device(\"cuda\" if torch.cuda.is_available() else \"cpu\")  # Chọn GPU nếu có, không thì dùng CPU\n",
        "model.to(device)  # Chuyển mô hình sang thiết bị đã chọn (GPU/CPU)\n",
        "\n",
        "loss_values = []  # Tạo list để lưu giá trị mất mát trung bình của mỗi epoch\n",
        "for epoch in range(5): # Lặp qua 5 epoch (mỗi epoch là một lần duyệt hết dữ liệu)\n",
        "    running_loss = 0.0  # Biến để cộng dồn mất mát trong epoch\n",
        "    for images, labels in train_loader:  # Lặp qua từng batch trong tập huấn luyện\n",
        "        images, labels = images.to(device), labels.to(device)  # Chuyển ảnh và nhãn sang GPU/CPU\n",
        "\n",
        "        optimizer.zero_grad()  # Xóa gradient cũ để tránh tích lũy từ bước trước\n",
        "        outputs = model(images)  # Đưa ảnh qua mô hình, nhận dự đoán (logits)\n",
        "        loss = criterion(outputs, labels)  # Tính mất mát giữa dự đoán và nhãn thật\n",
        "        loss.backward()  # Tính gradient ngược (backpropagation)\n",
        "        optimizer.step()  # Cập nhật trọng số dựa trên gradient\n",
        "\n",
        "        running_loss += loss.item()  # Cộng dồn giá trị mất mát của batch\n",
        "    epoch_loss = running_loss / len(train_loader)  # Tính mất mát trung bình của epoch\n",
        "    loss_values.append(epoch_loss)  # Lưu mất mát trung bình vào list\n",
        "    print(f\"Epoch {epoch+1}, Loss: {epoch_loss:.4f}\")  # In mất mát trung bình sau mỗi epoch\n"
      ]
    },
    {
      "cell_type": "code",
      "execution_count": null,
      "metadata": {
        "colab": {
          "base_uri": "https://localhost:8080/",
          "height": 489
        },
        "id": "pNUzEJgRLGS9",
        "outputId": "bfe82e71-1013-4cee-d7e9-c5f87d2fe2c1"
      },
      "outputs": [
        {
          "output_type": "display_data",
          "data": {
            "text/plain": [
              "<Figure size 800x500 with 1 Axes>"
            ],
            "image/png": "[encoded data removed]"
          },
          "metadata": {}
        }
      ],
      "source": [
        "# Vẽ biểu đồ loss\n",
        "plt.figure(figsize=(8, 5))  # Tạo khung hình kích thước 8x5\n",
        "plt.plot(range(1, 6), loss_values, marker='o')  # Vẽ đường mất mát qua 5 epoch, thêm điểm đánh dấu\n",
        "plt.title(\"Biểu đồ mất mát qua các epoch\")  # Tiêu đề biểu đồ\n",
        "plt.xlabel(\"Epoch\")  # Nhãn trục x\n",
        "plt.ylabel(\"Loss\")  # Nhãn trục y\n",
        "plt.grid(True)  # Thêm lưới để dễ nhìn\n",
        "plt.show()  # Hiển thị biểu đồ"
      ]
    },
    {
      "cell_type": "markdown",
      "metadata": {
        "id": "fHP7l57GLGS-"
      },
      "source": [
        "## Đánh giá mô hình"
      ]
    },
    {
      "cell_type": "code",
      "execution_count": null,
      "metadata": {
        "colab": {
          "base_uri": "https://localhost:8080/"
        },
        "id": "kr_huSVVLGS-",
        "outputId": "0e6fabe2-2c27-4241-e7d4-e9ec31ddf9c4"
      },
      "outputs": [
        {
          "output_type": "stream",
          "name": "stdout",
          "text": [
            "Độ chính xác trên tập test: 98.57%\n"
          ]
        }
      ],
      "source": [
        "correct = 0  # Đếm số dự đoán đúng\n",
        "total = 0  # Đếm tổng số mẫu\n",
        "with torch.no_grad():  # Tắt tính gradient vì chỉ đánh giá, không huấn luyện\n",
        "    for images, labels in test_loader:  # Lặp qua từng batch trong tập kiểm tra\n",
        "        images, labels = images.to(device), labels.to(device)  # Chuyển dữ liệu sang GPU/CPU\n",
        "        outputs = model(images)  # Dự đoán trên batch ảnh\n",
        "        _, predicted = torch.max(outputs.data, 1)  # Lấy chỉ số lớp có giá trị lớn nhất (dự đoán)\n",
        "        total += labels.size(0)  # Cộng số mẫu trong batch vào tổng\n",
        "        correct += (predicted == labels).sum().item()  # Cộng số dự đoán đúng\n",
        "print(f\"Độ chính xác trên tập test: {100 * correct / total:.2f}%\")  # Tính và in độ chính xác (%)"
      ]
    },
    {
      "cell_type": "code",
      "execution_count": null,
      "metadata": {
        "colab": {
          "base_uri": "https://localhost:8080/",
          "height": 280
        },
        "id": "ptJSF6c6LGS-",
        "outputId": "27fba0b2-fc33-4239-bfbd-38a08788733d"
      },
      "outputs": [
        {
          "output_type": "display_data",
          "data": {
            "text/plain": [
              "<Figure size 1500x300 with 5 Axes>"
            ],
            "image/png": "[encoded data removed]"
          },
          "metadata": {}
        }
      ],
      "source": [
        "# Trực quan kết quả dự đoán\n",
        "def visualize_prediction():  # Hàm để vẽ 5 ảnh và dự đoán\n",
        "    model.eval()  # Chuyển mô hình sang chế độ đánh giá (tắt dropout, batch norm nếu có)\n",
        "    images, labels = next(iter(test_loader))  # Lấy một batch từ tập kiểm tra\n",
        "    images, labels = images.to(device), labels.to(device)  # Chuyển sang GPU/CPU\n",
        "    outputs = model(images)  # Dự đoán trên batch\n",
        "    _, predicted = torch.max(outputs, 1)  # Lấy chỉ số lớp dự đoán\n",
        "\n",
        "    # Vẽ 5 ảnh đầu tiên\n",
        "    fig, axes = plt.subplots(1, 5, figsize=(15, 3))  # Tạo lưới 1x5 để vẽ 5 ảnh\n",
        "    for i in range(5):  # Lặp qua 5 ảnh đầu\n",
        "        axes[i].imshow(images[i].cpu().squeeze(), cmap='gray')  # Vẽ ảnh (chuyển về CPU, bỏ kênh 1)\n",
        "        axes[i].set_title(f\"Dự đoán: {predicted[i].item()}\\nThật: {labels[i].item()}\")  # Ghi nhãn dự đoán và thật\n",
        "        axes[i].axis('off')  # Tắt trục tọa độ\n",
        "    plt.show()  # Hiển thị hình\n",
        "\n",
        "visualize_prediction()  # Gọi hàm để vẽ"
      ]
    },
    {
      "cell_type": "code",
      "execution_count": null,
      "metadata": {
        "colab": {
          "base_uri": "https://localhost:8080/",
          "height": 336
        },
        "id": "Ki1QTHTGLGS_",
        "outputId": "5ce38223-99c3-4840-b04b-91f6bd1a37cb"
      },
      "outputs": [
        {
          "output_type": "display_data",
          "data": {
            "text/plain": [
              "<Figure size 1200x400 with 3 Axes>"
            ],
            "image/png": "[encoded data removed]"
          },
          "metadata": {}
        }
      ],
      "source": [
        "#Trực quan feature map\n",
        "def visualize_feature_map():  # Hàm để vẽ ảnh gốc và feature map từ tầng conv1\n",
        "    model.eval()  # Chuyển sang chế độ đánh giá\n",
        "    images, _ = next(iter(test_loader))  # Lấy một batch từ tập kiểm tra (bỏ nhãn)\n",
        "    img = images[0].unsqueeze(0).to(device)  # Lấy ảnh đầu tiên, thêm chiều batch (1x1x28x28)\n",
        "\n",
        "    # Tính feature map từ conv1\n",
        "    conv1_output = torch.relu(model.conv1(img))  # Qua conv1 và ReLU, ra tensor 1x16x26x26\n",
        "\n",
        "    # Vẽ ảnh gốc và feature map\n",
        "    plt.figure(figsize=(12, 4))\n",
        "    plt.subplot(1, 3, 1)\n",
        "    plt.title(\"Ảnh gốc\")\n",
        "    plt.imshow(img.cpu().squeeze(), cmap='gray')\n",
        "    plt.axis('off')\n",
        "\n",
        "    # Vẽ feature map đầu tiên\n",
        "    plt.subplot(1, 3, 2)\n",
        "    plt.title(\"Feature Map 1\")\n",
        "    plt.imshow(conv1_output[0, 0].cpu().detach().numpy(), cmap='gray')\n",
        "    plt.axis('off')\n",
        "\n",
        "    # Vẽ feature map thứ hai\n",
        "    plt.subplot(1, 3, 3)\n",
        "    plt.title(\"Feature Map 2\")\n",
        "    plt.imshow(conv1_output[0, 1].cpu().detach().numpy(), cmap='gray')\n",
        "    plt.axis('off')\n",
        "    plt.show()\n",
        "\n",
        "visualize_feature_map()"
      ]
    },
    {
      "cell_type": "markdown",
      "metadata": {
        "id": "M1h1hLZILGS_"
      },
      "source": [
        "# BÀI TẬP VỀ NHÀ"
      ]
    },
    {
      "cell_type": "markdown",
      "metadata": {
        "id": "P0JaR5vNLGS_"
      },
      "source": [
        "\n",
        "## Yêu cầu\n",
        "Dựa trên đoạn code CNN đã cung cấp (phân loại MNIST), hãy thực hiện các nhiệm vụ sau. Gửi lại code hoàn chỉnh kèm giải thích ngắn gọn cho từng câu hỏi trong file Jupyter Notebook.\n",
        "\n",
        "### Câu 1: Thay đổi số lượng epoch\n",
        "- **Yêu cầu**: Tăng số lượng epoch từ 5 lên 10 trong phần huấn luyện mô hình.\n",
        "- **Hướng dẫn**: Tìm dòng `for epoch in range(5):` và sửa thành `for epoch in range(10):`. Chạy lại code và ghi nhận:\n",
        "  - Độ chính xác trên tập test có thay đổi không? Nếu có, tăng hay giảm?\n",
        "  - Biểu đồ mất mát (loss) thay đổi thế nào qua 10 epoch? Có xu hướng nào đáng chú ý không (ví dụ: giảm đều, chững lại)?\n",
        "-  Viết ngắn gọn (2-3 câu) về lý do tại sao số epoch ảnh hưởng đến kết quả.\n",
        "\n",
        "### Câu 2: Thêm một tầng tích chập\n",
        "- **Yêu cầu**: Thêm một tầng tích chập thứ ba (`conv3`) vào mô hình `MNIST_CNN`.\n",
        "- **Hướng dẫn**:\n",
        "  - Trong hàm `__init__`, thêm `self.conv3 = nn.Conv2d(32, 64, kernel_size=3, stride=1, padding=0)` (32 kênh đầu vào từ `conv2`, 64 kênh đầu ra).\n",
        "  - Trong hàm `forward`, thêm `x = self.pool(torch.relu(self.conv3(x)))` sau dòng `x = self.pool(torch.relu(self.conv2(x)))`.\n",
        "  - Kích thước sau `conv3` và pooling sẽ là 64x1x1 (vì 5x5 -> 3x3 -> 1x1 sau hai lần pooling và tích chập). Sửa tầng `fc1` thành `self.fc1 = nn.Linear(64 * 1 * 1, 10)` và dòng `x.view(-1, 64 * 1 * 1)` tương ứng.\n",
        "  - Chạy lại code và ghi nhận độ chính xác mới trên tập test.\n",
        "- Viết ngắn gọn (2-3 câu) về tác dụng của việc thêm tầng tích chập (ví dụ: tìm đặc trưng phức tạp hơn, ảnh hưởng đến độ chính xác).\n",
        "\n",
        "### Câu 3: Thay đổi learning rate\n",
        "- **Yêu cầu**: Thử hai giá trị learning rate khác nhau: 0.001 và 0.1 (thay vì 0.01 ban đầu).\n",
        "- **Hướng dẫn**: Tìm dòng `optimizer = optim.SGD(model.parameters(), lr=0.01, momentum=0.9)` và thay `lr=0.001` rồi `lr=0.1`. Chạy lại code với từng giá trị và ghi nhận:\n",
        "  - Độ chính xác trên tập test với mỗi learning rate.\n",
        "  - Biểu đồ mất mát thay đổi ra sao? (Ví dụ: dao động mạnh, giảm chậm, hoặc không hội tụ).\n",
        "- Viết ngắn gọn (2-3 câu) về cách learning rate ảnh hưởng đến quá trình học của mô hình.\n",
        "\n",
        "### Câu 4: Vẽ thêm feature map từ tầng tích chập thứ hai\n",
        "- **Yêu cầu**: Sửa hàm `visualize_feature_map` để vẽ thêm hai feature map từ tầng `conv2`.\n",
        "- **Hướng dẫn**:\n",
        "  - Trong hàm `visualize_feature_map`, thêm dòng `conv2_output = torch.relu(self.conv2(self.pool(torch.relu(self.conv1(img)))))` để tính feature map từ `conv2`.\n",
        "  - Tăng khung hình từ 3 cột thành 5 cột: `plt.figure(figsize=(20, 4))` và sửa các subplot thành `plt.subplot(1, 5, ...)`.\n",
        "  - Thêm hai subplot để vẽ `conv2_output[0, 0]` và `conv2_output[0, 1]` (tương tự như `conv1_output`).\n",
        "  - Chạy lại và mô tả sự khác biệt giữa feature map từ `conv1` và `conv2` (ví dụ: chi tiết hơn, trừu tượng hơn).\n",
        "- Viết ngắn gọn (2-3 câu) về sự khác biệt giữa feature map từ các tầng khác nhau.\n",
        "\n",
        "## Nộp bài\n",
        "- Nộp file Jupyter Notebook (.ipynb) lên github.\n",
        "- Mỗi câu cần có:\n",
        "  - Code đã sửa đổi.\n",
        "  - Kết quả chạy (độ chính xác, biểu đồ loss, hình feature map nếu có).\n",
        "  - Giải thích ngắn gọn (2-3 câu).\n",
        "\n",
        "## Gợi ý\n",
        "- Đọc lại lý thuyết CNN (tích chập, ReLU, pooling, fully connected) để hiểu tác động của từng thay đổi.\n",
        "- Chạy code từng phần để kiểm tra lỗi (ví dụ: kiểm tra kích thước tensor sau khi thêm `conv3`).\n",
        "\n",
        "## Thời hạn nộp bài\n",
        "- Nộp bài trước buổi học tiếp theo.\n"
      ]
    },
    {
      "cell_type": "markdown",
      "source": [
        "## BÀI TẬP VỀ NHÀ"
      ],
      "metadata": {
        "id": "IjZ7wkp5Mwxo"
      }
    },
    {
      "cell_type": "markdown",
      "source": [
        "### CÂU 1"
      ],
      "metadata": {
        "id": "9JGL2AohMz0_"
      }
    },
    {
      "cell_type": "code",
      "source": [
        "import torch\n",
        "import torch.nn as nn\n",
        "import torch.optim as optim\n",
        "import torchvision\n",
        "import torchvision.transforms as transforms\n",
        "import matplotlib.pyplot as plt\n",
        "import numpy as np\n",
        "\n",
        "# 1. Tải dữ liệu MNIST\n",
        "transform = transforms.ToTensor()  # Chuyển ảnh thành tensor\n",
        "train_dataset = torchvision.datasets.MNIST(root='./data', train=True, download=True, transform=transform)\n",
        "test_dataset = torchvision.datasets.MNIST(root='./data', train=False, download=True, transform=transform)\n",
        "\n",
        "train_loader = torch.utils.data.DataLoader(train_dataset, batch_size=64, shuffle=True)\n",
        "test_loader = torch.utils.data.DataLoader(test_dataset, batch_size=64, shuffle=False)"
      ],
      "metadata": {
        "id": "yceg_JSxOBgJ"
      },
      "execution_count": null,
      "outputs": []
    },
    {
      "cell_type": "code",
      "source": [
        "# 2. Định nghĩa mô hình CNN\n",
        "class MNIST_CNN(nn.Module):  # Tạo lớp MNIST_CNN kế thừa từ nn.Module (lớp cơ bản của PyTorch)\n",
        "    def __init__(self):  # Hàm khởi tạo mô hình\n",
        "        super(MNIST_CNN, self).__init__()  # Gọi hàm khởi tạo của lớp cha (nn.Module)\n",
        "        # Tầng tích chập 1: 1 kênh đầu vào (ảnh đen trắng) -> 16 kênh đầu ra, filter 3x3\n",
        "        self.conv1 = nn.Conv2d(1, 16, kernel_size=3, stride=1, padding=0)  # Tích chập giảm kích thước từ 28x28 -> 26x26\n",
        "        # Tầng tích chập 2: 16 kênh đầu vào -> 32 kênh đầu ra, filter 3x3\n",
        "        self.conv2 = nn.Conv2d(16, 32, kernel_size=3, stride=1, padding=0)  # Tích chập giảm từ 12x12 -> 10x10 (sau pooling)\n",
        "        # Tầng pooling: vùng 2x2, giảm kích thước một nửa\n",
        "        self.pool = nn.MaxPool2d(kernel_size=2, stride=2)  # Ví dụ: 26x26 -> 13x13, 10x10 -> 5x5\n",
        "        # Tầng fully connected: từ 32 kênh * 5x5 (800) -> 10 lớp (0-9)\n",
        "        self.fc1 = nn.Linear(32 * 5 * 5, 10)  # Duỗi feature map thành vector rồi phân loại\n",
        "\n",
        "    def forward(self, x):  # Hàm forward định nghĩa luồng dữ liệu qua các tầng\n",
        "        x = self.pool(torch.relu(self.conv1(x)))  # Conv1 -> ReLU (loại giá trị âm) -> Pool (giảm kích thước)\n",
        "        x = self.pool(torch.relu(self.conv2(x)))  # Conv2 -> ReLU -> Pool, cuối cùng ra 32x5x5\n",
        "        x = x.view(-1, 32 * 5 * 5)  # Duỗi tensor thành vector, -1 tự động tính batch size\n",
        "        x = self.fc1(x)  # Qua tầng fully connected, ra 10 giá trị (logits cho 0-9)\n",
        "        return x  # Trả về kết quả dự đoán\n"
      ],
      "metadata": {
        "id": "wKyZP1ZEOuzP"
      },
      "execution_count": null,
      "outputs": []
    },
    {
      "cell_type": "code",
      "source": [
        "# Khởi tạo mô hình\n",
        "model = MNIST_CNN()  # Tạo một instance của lớp MNIST_CNN\n",
        "criterion = nn.CrossEntropyLoss()  # Định nghĩa hàm mất mát CrossEntropy (dùng cho phân loại nhiều lớp)\n",
        "optimizer = optim.SGD(model.parameters(), lr=0.01, momentum=0.9)  # Dùng SGD với learning rate 0.01 và momentum 0.9 để tối ưu\n"
      ],
      "metadata": {
        "id": "CDYlIqwwOyoc"
      },
      "execution_count": null,
      "outputs": []
    },
    {
      "cell_type": "code",
      "source": [
        "# 3. Huấn luyện mô hình\n",
        "device = torch.device(\"cuda\" if torch.cuda.is_available() else \"cpu\")  # Chọn GPU nếu có, không thì dùng CPU\n",
        "model.to(device)  # Chuyển mô hình sang thiết bị đã chọn (GPU/CPU)\n",
        "\n",
        "loss_values = []  # Tạo list để lưu giá trị mất mát trung bình của mỗi epoch\n",
        "for epoch in range(10):  # Thay đổi: Lặp qua 10 epoch\n",
        "    running_loss = 0.0  # Biến để cộng dồn mất mát trong epoch\n",
        "    for images, labels in train_loader:  # Lặp qua từng batch trong tập huấn luyện\n",
        "        images, labels = images.to(device), labels.to(device)  # Chuyển ảnh và nhãn sang GPU/CPU\n",
        "\n",
        "        optimizer.zero_grad()  # Xóa gradient cũ để tránh tích lũy từ bước trước\n",
        "        outputs = model(images)  # Đưa ảnh qua mô hình, nhận dự đoán (logits)\n",
        "        loss = criterion(outputs, labels)  # Tính mất mát giữa dự đoán và nhãn thật\n",
        "        loss.backward()  # Tính gradient ngược (backpropagation)\n",
        "        optimizer.step()  # Cập nhật trọng số dựa trên gradient\n",
        "\n",
        "        running_loss += loss.item()  # Cộng dồn giá trị mất mát của batch\n",
        "    epoch_loss = running_loss / len(train_loader)  # Tính mất mát trung bình của epoch\n",
        "    loss_values.append(epoch_loss)  # Lưu mất mát trung bình vào list\n",
        "    print(f\"Epoch {epoch+1}, Loss: {epoch_loss:.4f}\")  # In mất mát trung bình sau mỗi epoch\n"
      ],
      "metadata": {
        "colab": {
          "base_uri": "https://localhost:8080/"
        },
        "id": "HIrvv7T9L49u",
        "outputId": "80885fd0-97ad-4cbc-952a-7bfd236ac5bb"
      },
      "execution_count": null,
      "outputs": [
        {
          "output_type": "stream",
          "name": "stdout",
          "text": [
            "Epoch 1, Loss: 0.2930\n",
            "Epoch 2, Loss: 0.0887\n",
            "Epoch 3, Loss: 0.0692\n",
            "Epoch 4, Loss: 0.0574\n",
            "Epoch 5, Loss: 0.0498\n",
            "Epoch 6, Loss: 0.0442\n",
            "Epoch 7, Loss: 0.0397\n",
            "Epoch 8, Loss: 0.0373\n",
            "Epoch 9, Loss: 0.0339\n",
            "Epoch 10, Loss: 0.0313\n"
          ]
        }
      ]
    },
    {
      "cell_type": "code",
      "source": [
        "# Vẽ biểu đồ loss\n",
        "plt.figure(figsize=(8, 5))  # Tạo khung hình kích thước 8x5\n",
        "plt.plot(range(1, 11), loss_values, marker='o')  # Thay đổi: Vẽ đường mất mát qua 10 epoch\n",
        "plt.title(\"Biểu đồ mất mát qua các epoch\")  # Tiêu đề biểu đồ\n",
        "plt.xlabel(\"Epoch\")  # Nhãn trục x\n",
        "plt.ylabel(\"Loss\")  # Nhãn trục y\n",
        "plt.grid(True)  # Thêm lưới để dễ nhìn\n",
        "plt.show()  # Hiển thị biểu đồ"
      ],
      "metadata": {
        "colab": {
          "base_uri": "https://localhost:8080/",
          "height": 489
        },
        "id": "TEvMUOUHN1Wf",
        "outputId": "bcaeb4e8-3314-466d-e62f-79f59d0bbbe6"
      },
      "execution_count": null,
      "outputs": [
        {
          "output_type": "display_data",
          "data": {
            "text/plain": [
              "<Figure size 800x500 with 1 Axes>"
            ],
            "image/png": "[encoded data removed]"
          },
          "metadata": {}
        }
      ]
    },
    {
      "cell_type": "code",
      "source": [
        "# Kiểm tra độ chính xác trên tập test\n",
        "correct = 0\n",
        "total = 0\n",
        "with torch.no_grad():\n",
        "    for images, labels in test_loader:\n",
        "        images, labels = images.to(device), labels.to(device)\n",
        "        outputs = model(images)\n",
        "        _, predicted = torch.max(outputs.data, 1)\n",
        "        total += labels.size(0)\n",
        "        correct += (predicted == labels).sum().item()\n",
        "\n",
        "print(f\"Độ chính xác trên tập test: {100 * correct / total:.2f}%\")"
      ],
      "metadata": {
        "colab": {
          "base_uri": "https://localhost:8080/"
        },
        "id": "rTuVJXe6PZJd",
        "outputId": "29cac209-d52f-419a-a69a-fef7cb192c08"
      },
      "execution_count": null,
      "outputs": [
        {
          "output_type": "stream",
          "name": "stdout",
          "text": [
            "Độ chính xác trên tập test: 98.79%\n"
          ]
        }
      ]
    },
    {
      "cell_type": "markdown",
      "source": [
        "Nhìn vào biểu đồ, độ mất mát giảm nhanh ở 2 epoch đầu tiên từ 0.3 xuống còn khoảng 0.08, sau đó giảm chậm dần và ổn định quanh 0.04-0.05 ở các epoch tiếp theo. Số epoch ảnh hưởng đến kết quả vì nó quyết định quá trình học của mô hình: ban đầu học nhanh và hiệu quả, về sau chỉ tinh chỉnh nhẹ các tham số. Với độ chính xác ban đầu đã rất cao (98.79%), việc tăng số epoch sẽ không mang lại cải thiện đáng kể."
      ],
      "metadata": {
        "id": "hJCG-w-tQCYL"
      }
    },
    {
      "cell_type": "markdown",
      "source": [
        "###CÂU 2"
      ],
      "metadata": {
        "id": "W35X7nNRQD0E"
      }
    },
    {
      "cell_type": "code",
      "source": [
        "import torch\n",
        "import torch.nn as nn\n",
        "import torch.optim as optim\n",
        "import torchvision\n",
        "import torchvision.transforms as transforms\n",
        "import matplotlib.pyplot as plt\n",
        "import numpy as np\n",
        "\n",
        "# 1. Tải dữ liệu MNIST\n",
        "transform = transforms.ToTensor()  # Chuyển ảnh thành tensor\n",
        "train_dataset = torchvision.datasets.MNIST(root='./data', train=True, download=True, transform=transform)\n",
        "test_dataset = torchvision.datasets.MNIST(root='./data', train=False, download=True, transform=transform)\n",
        "\n",
        "train_loader = torch.utils.data.DataLoader(train_dataset, batch_size=64, shuffle=True)\n",
        "test_loader = torch.utils.data.DataLoader(test_dataset, batch_size=64, shuffle=False)\n"
      ],
      "metadata": {
        "id": "dbmvDXpjQF2v"
      },
      "execution_count": null,
      "outputs": []
    },
    {
      "cell_type": "code",
      "source": [
        "class MNIST_CNN(nn.Module):\n",
        "    def __init__(self):\n",
        "        super(MNIST_CNN, self).__init__()\n",
        "        self.conv1 = nn.Conv2d(1, 16, kernel_size=3, stride=1, padding=0)\n",
        "        self.conv2 = nn.Conv2d(16, 32, kernel_size=3, stride=1, padding=0)\n",
        "        self.conv3 = nn.Conv2d(32, 64, kernel_size=3, stride=1, padding=0)  # Thêm tầng conv3\n",
        "        self.pool = nn.MaxPool2d(kernel_size=2, stride=2)\n",
        "        self.fc1 = nn.Linear(64 * 1 * 1, 10)  # Sửa kích thước input layer\n",
        "\n",
        "    def forward(self, x):\n",
        "        x = self.pool(torch.relu(self.conv1(x)))\n",
        "        x = self.pool(torch.relu(self.conv2(x)))\n",
        "        x = self.pool(torch.relu(self.conv3(x)))  # Thêm conv3 vào forward\n",
        "        x = x.view(-1, 64 * 1 * 1)  # Sửa dòng view tương ứng\n",
        "        x = self.fc1(x)\n",
        "        return x"
      ],
      "metadata": {
        "id": "8XEjp1ezQRkX"
      },
      "execution_count": null,
      "outputs": []
    },
    {
      "cell_type": "code",
      "source": [
        "# Khởi tạo mô hình\n",
        "model = MNIST_CNN()  # Tạo một instance của lớp MNIST_CNN\n",
        "criterion = nn.CrossEntropyLoss()  # Định nghĩa hàm mất mát CrossEntropy (dùng cho phân loại nhiều lớp)\n",
        "optimizer = optim.SGD(model.parameters(), lr=0.01, momentum=0.9)  # Dùng SGD với learning rate 0.01 và momentum 0.9 để tối ưu"
      ],
      "metadata": {
        "id": "e7HkSXnORPZJ"
      },
      "execution_count": null,
      "outputs": []
    },
    {
      "cell_type": "code",
      "source": [
        "# 3. Huấn luyện mô hình\n",
        "device = torch.device(\"cuda\" if torch.cuda.is_available() else \"cpu\")  # Chọn GPU nếu có, không thì dùng CPU\n",
        "model.to(device)  # Chuyển mô hình sang thiết bị đã chọn (GPU/CPU)\n",
        "\n",
        "loss_values = []  # Tạo list để lưu giá trị mất mát trung bình của mỗi epoch\n",
        "for epoch in range(5): # Lặp qua 5 epoch (mỗi epoch là một lần duyệt hết dữ liệu)\n",
        "    running_loss = 0.0  # Biến để cộng dồn mất mát trong epoch\n",
        "    for images, labels in train_loader:  # Lặp qua từng batch trong tập huấn luyện\n",
        "        images, labels = images.to(device), labels.to(device)  # Chuyển ảnh và nhãn sang GPU/CPU\n",
        "\n",
        "        optimizer.zero_grad()  # Xóa gradient cũ để tránh tích lũy từ bước trước\n",
        "        outputs = model(images)  # Đưa ảnh qua mô hình, nhận dự đoán (logits)\n",
        "        loss = criterion(outputs, labels)  # Tính mất mát giữa dự đoán và nhãn thật\n",
        "        loss.backward()  # Tính gradient ngược (backpropagation)\n",
        "        optimizer.step()  # Cập nhật trọng số dựa trên gradient\n",
        "\n",
        "        running_loss += loss.item()  # Cộng dồn giá trị mất mát của batch\n",
        "    epoch_loss = running_loss / len(train_loader)  # Tính mất mát trung bình của epoch\n",
        "    loss_values.append(epoch_loss)  # Lưu mất mát trung bình vào list\n",
        "    print(f\"Epoch {epoch+1}, Loss: {epoch_loss:.4f}\")  # In mất mát trung bình sau mỗi epoch"
      ],
      "metadata": {
        "colab": {
          "base_uri": "https://localhost:8080/"
        },
        "id": "9kfV8W56RTck",
        "outputId": "16530605-fb41-4000-d313-de42893ec3d9"
      },
      "execution_count": null,
      "outputs": [
        {
          "output_type": "stream",
          "name": "stdout",
          "text": [
            "Epoch 1, Loss: 0.5060\n",
            "Epoch 2, Loss: 0.1146\n",
            "Epoch 3, Loss: 0.0824\n",
            "Epoch 4, Loss: 0.0678\n",
            "Epoch 5, Loss: 0.0584\n"
          ]
        }
      ]
    },
    {
      "cell_type": "code",
      "source": [
        "# Vẽ biểu đồ loss\n",
        "plt.figure(figsize=(8, 5))  # Tạo khung hình kích thước 8x5\n",
        "plt.plot(range(1, 6), loss_values, marker='o')  # Vẽ đường mất mát qua 5 epoch, thêm điểm đánh dấu\n",
        "plt.title(\"Biểu đồ mất mát qua các epoch\")  # Tiêu đề biểu đồ\n",
        "plt.xlabel(\"Epoch\")  # Nhãn trục x\n",
        "plt.ylabel(\"Loss\")  # Nhãn trục y\n",
        "plt.grid(True)  # Thêm lưới để dễ nhìn\n",
        "plt.show()  # Hiển thị biểu đồ"
      ],
      "metadata": {
        "colab": {
          "base_uri": "https://localhost:8080/",
          "height": 489
        },
        "id": "TL-AfsH_RWeL",
        "outputId": "cd223874-6825-4e9d-b9f4-911c33831498"
      },
      "execution_count": null,
      "outputs": [
        {
          "output_type": "display_data",
          "data": {
            "text/plain": [
              "<Figure size 800x500 with 1 Axes>"
            ],
            "image/png": "[encoded data removed]"
          },
          "metadata": {}
        }
      ]
    },
    {
      "cell_type": "code",
      "source": [
        "correct = 0  # Đếm số dự đoán đúng\n",
        "total = 0  # Đếm tổng số mẫu\n",
        "with torch.no_grad():  # Tắt tính gradient vì chỉ đánh giá, không huấn luyện\n",
        "    for images, labels in test_loader:  # Lặp qua từng batch trong tập kiểm tra\n",
        "        images, labels = images.to(device), labels.to(device)  # Chuyển dữ liệu sang GPU/CPU\n",
        "        outputs = model(images)  # Dự đoán trên batch ảnh\n",
        "        _, predicted = torch.max(outputs.data, 1)  # Lấy chỉ số lớp có giá trị lớn nhất (dự đoán)\n",
        "        total += labels.size(0)  # Cộng số mẫu trong batch vào tổng\n",
        "        correct += (predicted == labels).sum().item()  # Cộng số dự đoán đúng\n",
        "print(f\"Độ chính xác trên tập test: {100 * correct / total:.2f}%\")  # Tính và in độ chính xác (%)"
      ],
      "metadata": {
        "colab": {
          "base_uri": "https://localhost:8080/"
        },
        "id": "bkuAYf3VSPKb",
        "outputId": "52dba966-7ba1-438f-e83d-4b907d4f1b09"
      },
      "execution_count": null,
      "outputs": [
        {
          "output_type": "stream",
          "name": "stdout",
          "text": [
            "Độ chính xác trên tập test: 98.33%\n"
          ]
        }
      ]
    },
    {
      "cell_type": "markdown",
      "source": [
        "Việc thêm tầng tích chập thứ 3 cho phép mô hình trích xuất các đặc trưng phức tạp và chi tiết hơn từ ảnh MNIST. Tuy nhiên, trong trường hợp này, độ chính xác nhẹ giảm từ 98.79% xuống 98.33%, cho thấy không phải lúc nào thêm tầng cũng mang lại hiệu quả tốt hơn, và mô hình gốc đã khá tối ưu cho tập dữ liệu này."
      ],
      "metadata": {
        "id": "XVSW4aHXSdWD"
      }
    },
    {
      "cell_type": "markdown",
      "source": [
        "### CÂU 3"
      ],
      "metadata": {
        "id": "tVsq1LquSe82"
      }
    },
    {
      "cell_type": "markdown",
      "source": [
        "# tìm dòng optimizer = optim.SGD(model.parameters(), lr=0.01, momentum=0.9) và thay lr=0.001"
      ],
      "metadata": {
        "id": "8gkvKjUJVYRo"
      }
    },
    {
      "cell_type": "code",
      "source": [
        "# Khởi tạo mô hình\n",
        "model = MNIST_CNN()  # Tạo một instance của lớp MNIST_CNN\n",
        "criterion = nn.CrossEntropyLoss()  # Định nghĩa hàm mất mát CrossEntropy (dùng cho phân loại nhiều lớp)\n",
        "optimizer = optim.SGD(model.parameters(), lr=0.001, momentum=0.9)  # Dùng SGD với learning rate 0.001 và momentum 0.9 để tối ưu"
      ],
      "metadata": {
        "id": "w_teWi8eSei3"
      },
      "execution_count": null,
      "outputs": []
    },
    {
      "cell_type": "code",
      "source": [
        "# 3. Huấn luyện mô hình\n",
        "device = torch.device(\"cuda\" if torch.cuda.is_available() else \"cpu\")  # Chọn GPU nếu có, không thì dùng CPU\n",
        "model.to(device)  # Chuyển mô hình sang thiết bị đã chọn (GPU/CPU)\n",
        "\n",
        "loss_values = []  # Tạo list để lưu giá trị mất mát trung bình của mỗi epoch\n",
        "for epoch in range(5): # Lặp qua 5 epoch (mỗi epoch là một lần duyệt hết dữ liệu)\n",
        "    running_loss = 0.0  # Biến để cộng dồn mất mát trong epoch\n",
        "    for images, labels in train_loader:  # Lặp qua từng batch trong tập huấn luyện\n",
        "        images, labels = images.to(device), labels.to(device)  # Chuyển ảnh và nhãn sang GPU/CPU\n",
        "\n",
        "        optimizer.zero_grad()  # Xóa gradient cũ để tránh tích lũy từ bước trước\n",
        "        outputs = model(images)  # Đưa ảnh qua mô hình, nhận dự đoán (logits)\n",
        "        loss = criterion(outputs, labels)  # Tính mất mát giữa dự đoán và nhãn thật\n",
        "        loss.backward()  # Tính gradient ngược (backpropagation)\n",
        "        optimizer.step()  # Cập nhật trọng số dựa trên gradient\n",
        "\n",
        "        running_loss += loss.item()  # Cộng dồn giá trị mất mát của batch\n",
        "    epoch_loss = running_loss / len(train_loader)  # Tính mất mát trung bình của epoch\n",
        "    loss_values.append(epoch_loss)  # Lưu mất mát trung bình vào list\n",
        "    print(f\"Epoch {epoch+1}, Loss: {epoch_loss:.4f}\")  # In mất mát trung bình sau mỗi epoch"
      ],
      "metadata": {
        "colab": {
          "base_uri": "https://localhost:8080/"
        },
        "id": "zRnbGaj4S48y",
        "outputId": "23c9aadc-f48d-4e69-a1dd-a713393df0c8"
      },
      "execution_count": null,
      "outputs": [
        {
          "output_type": "stream",
          "name": "stdout",
          "text": [
            "Epoch 1, Loss: 2.0099\n",
            "Epoch 2, Loss: 0.4765\n",
            "Epoch 3, Loss: 0.2719\n",
            "Epoch 4, Loss: 0.2079\n",
            "Epoch 5, Loss: 0.1719\n"
          ]
        }
      ]
    },
    {
      "cell_type": "code",
      "source": [
        "# Vẽ biểu đồ loss\n",
        "plt.figure(figsize=(8, 5))  # Tạo khung hình kích thước 8x5\n",
        "plt.plot(range(1, 6), loss_values, marker='o')  # Vẽ đường mất mát qua 5 epoch, thêm điểm đánh dấu\n",
        "plt.title(\"Biểu đồ mất mát qua các epoch\")  # Tiêu đề biểu đồ\n",
        "plt.xlabel(\"Epoch\")  # Nhãn trục x\n",
        "plt.ylabel(\"Loss\")  # Nhãn trục y\n",
        "plt.grid(True)  # Thêm lưới để dễ nhìn\n",
        "plt.show()  # Hiển thị biểu đồ"
      ],
      "metadata": {
        "colab": {
          "base_uri": "https://localhost:8080/",
          "height": 489
        },
        "id": "ss173Mk_TKe_",
        "outputId": "0f08c513-9299-4a67-b544-e05d120cc2aa"
      },
      "execution_count": null,
      "outputs": [
        {
          "output_type": "display_data",
          "data": {
            "text/plain": [
              "<Figure size 800x500 with 1 Axes>"
            ],
            "image/png": "[encoded data removed]"
          },
          "metadata": {}
        }
      ]
    },
    {
      "cell_type": "code",
      "source": [
        "correct = 0  # Đếm số dự đoán đúng\n",
        "total = 0  # Đếm tổng số mẫu\n",
        "with torch.no_grad():  # Tắt tính gradient vì chỉ đánh giá, không huấn luyện\n",
        "    for images, labels in test_loader:  # Lặp qua từng batch trong tập kiểm tra\n",
        "        images, labels = images.to(device), labels.to(device)  # Chuyển dữ liệu sang GPU/CPU\n",
        "        outputs = model(images)  # Dự đoán trên batch ảnh\n",
        "        _, predicted = torch.max(outputs.data, 1)  # Lấy chỉ số lớp có giá trị lớn nhất (dự đoán)\n",
        "        total += labels.size(0)  # Cộng số mẫu trong batch vào tổng\n",
        "        correct += (predicted == labels).sum().item()  # Cộng số dự đoán đúng\n",
        "print(f\"Độ chính xác trên tập test: {100 * correct / total:.2f}%\")  # Tính và in độ chính xác (%)"
      ],
      "metadata": {
        "colab": {
          "base_uri": "https://localhost:8080/"
        },
        "id": "QHUEE8ShV0n3",
        "outputId": "82f1836f-1e97-4d8c-82e8-e1b026e82967"
      },
      "execution_count": null,
      "outputs": [
        {
          "output_type": "stream",
          "name": "stdout",
          "text": [
            "Độ chính xác trên tập test: 95.59%\n"
          ]
        }
      ]
    },
    {
      "cell_type": "markdown",
      "source": [
        "# Tìm dòng optimizer = optim.SGD(model.parameters(), lr=0.01, momentum=0.9) và thay lr=**0.1"
      ],
      "metadata": {
        "id": "HGCKjEx3V7IB"
      }
    },
    {
      "cell_type": "code",
      "source": [
        "# Khởi tạo mô hình\n",
        "model = MNIST_CNN()  # Tạo một instance của lớp MNIST_CNN\n",
        "criterion = nn.CrossEntropyLoss()  # Định nghĩa hàm mất mát CrossEntropy (dùng cho phân loại nhiều lớp)\n",
        "optimizer = optim.SGD(model.parameters(), lr=0.1, momentum=0.9)  # Dùng SGD với learning rate 0.1 và momentum 0.9 để tối ưu"
      ],
      "metadata": {
        "id": "gS_Aq7PSWEIJ"
      },
      "execution_count": null,
      "outputs": []
    },
    {
      "cell_type": "code",
      "source": [
        "# 3. Huấn luyện mô hình\n",
        "device = torch.device(\"cuda\" if torch.cuda.is_available() else \"cpu\")  # Chọn GPU nếu có, không thì dùng CPU\n",
        "model.to(device)  # Chuyển mô hình sang thiết bị đã chọn (GPU/CPU)\n",
        "\n",
        "loss_values = []  # Tạo list để lưu giá trị mất mát trung bình của mỗi epoch\n",
        "for epoch in range(5): # Lặp qua 5 epoch (mỗi epoch là một lần duyệt hết dữ liệu)\n",
        "    running_loss = 0.0  # Biến để cộng dồn mất mát trong epoch\n",
        "    for images, labels in train_loader:  # Lặp qua từng batch trong tập huấn luyện\n",
        "        images, labels = images.to(device), labels.to(device)  # Chuyển ảnh và nhãn sang GPU/CPU\n",
        "\n",
        "        optimizer.zero_grad()  # Xóa gradient cũ để tránh tích lũy từ bước trước\n",
        "        outputs = model(images)  # Đưa ảnh qua mô hình, nhận dự đoán (logits)\n",
        "        loss = criterion(outputs, labels)  # Tính mất mát giữa dự đoán và nhãn thật\n",
        "        loss.backward()  # Tính gradient ngược (backpropagation)\n",
        "        optimizer.step()  # Cập nhật trọng số dựa trên gradient\n",
        "\n",
        "        running_loss += loss.item()  # Cộng dồn giá trị mất mát của batch\n",
        "    epoch_loss = running_loss / len(train_loader)  # Tính mất mát trung bình của epoch\n",
        "    loss_values.append(epoch_loss)  # Lưu mất mát trung bình vào list\n",
        "    print(f\"Epoch {epoch+1}, Loss: {epoch_loss:.4f}\")  # In mất mát trung bình sau mỗi epoch"
      ],
      "metadata": {
        "colab": {
          "base_uri": "https://localhost:8080/"
        },
        "id": "GRf0-qoYWIpL",
        "outputId": "9879f461-4289-4f88-c88e-f73440aac406"
      },
      "execution_count": null,
      "outputs": [
        {
          "output_type": "stream",
          "name": "stdout",
          "text": [
            "Epoch 1, Loss: 0.2674\n",
            "Epoch 2, Loss: 0.1048\n",
            "Epoch 3, Loss: 0.0890\n",
            "Epoch 4, Loss: 0.0785\n",
            "Epoch 5, Loss: 0.0755\n"
          ]
        }
      ]
    },
    {
      "cell_type": "code",
      "source": [
        "# Vẽ biểu đồ loss\n",
        "plt.figure(figsize=(8, 5))  # Tạo khung hình kích thước 8x5\n",
        "plt.plot(range(1, 6), loss_values, marker='o')  # Vẽ đường mất mát qua 5 epoch, thêm điểm đánh dấu\n",
        "plt.title(\"Biểu đồ mất mát qua các epoch\")  # Tiêu đề biểu đồ\n",
        "plt.xlabel(\"Epoch\")  # Nhãn trục x\n",
        "plt.ylabel(\"Loss\")  # Nhãn trục y\n",
        "plt.grid(True)  # Thêm lưới để dễ nhìn\n",
        "plt.show()  # Hiển thị biểu đồ"
      ],
      "metadata": {
        "colab": {
          "base_uri": "https://localhost:8080/",
          "height": 489
        },
        "id": "k8q6T3knWK1J",
        "outputId": "213f86a1-67ba-4c4a-97c8-0700d6bceb05"
      },
      "execution_count": null,
      "outputs": [
        {
          "output_type": "display_data",
          "data": {
            "text/plain": [
              "<Figure size 800x500 with 1 Axes>"
            ],
            "image/png": "[encoded data removed]"
          },
          "metadata": {}
        }
      ]
    },
    {
      "cell_type": "code",
      "source": [
        "correct = 0  # Đếm số dự đoán đúng\n",
        "total = 0  # Đếm tổng số mẫu\n",
        "with torch.no_grad():  # Tắt tính gradient vì chỉ đánh giá, không huấn luyện\n",
        "    for images, labels in test_loader:  # Lặp qua từng batch trong tập kiểm tra\n",
        "        images, labels = images.to(device), labels.to(device)  # Chuyển dữ liệu sang GPU/CPU\n",
        "        outputs = model(images)  # Dự đoán trên batch ảnh\n",
        "        _, predicted = torch.max(outputs.data, 1)  # Lấy chỉ số lớp có giá trị lớn nhất (dự đoán)\n",
        "        total += labels.size(0)  # Cộng số mẫu trong batch vào tổng\n",
        "        correct += (predicted == labels).sum().item()  # Cộng số dự đoán đúng\n",
        "print(f\"Độ chính xác trên tập test: {100 * correct / total:.2f}%\")  # Tính và in độ chính xác (%)"
      ],
      "metadata": {
        "colab": {
          "base_uri": "https://localhost:8080/"
        },
        "id": "Kq9REz-BWOb8",
        "outputId": "772034ad-35e0-4a30-cccf-4b95d40523f4"
      },
      "execution_count": null,
      "outputs": [
        {
          "output_type": "stream",
          "name": "stdout",
          "text": [
            "Độ chính xác trên tập test: 97.92%\n"
          ]
        }
      ]
    },
    {
      "cell_type": "markdown",
      "source": [
        "Với kết quả lr=0.001 (độ chính xác 95.59%) và lr=0.1 (độ chính xác 97.92%), learning rate ảnh hưởng đáng kể đến khả năng học của mô hình CNN này. Ở learning rate 0.001, các trọng số được cập nhật rất chậm, khiến mô hình khó nắm bắt các đặc trưng phức tạp của dữ liệu MNIST, dẫn đến độ chính xác thấp hơn. Ngược lại, learning rate 0.1 cho phép mô hình điều chỉnh nhanh hơn và hiệu quả hơn, giúp tìm ra biên độ quyết định tốt hơn giữa các lớp chữ số."
      ],
      "metadata": {
        "id": "mn3IKDerW5D_"
      }
    },
    {
      "cell_type": "markdown",
      "source": [
        "### CÂU 4"
      ],
      "metadata": {
        "id": "IBsmkfeaW6qx"
      }
    },
    {
      "cell_type": "code",
      "source": [
        "def visualize_feature_map():  # Hàm để vẽ ảnh gốc và feature map từ các tầng conv1 và conv2\n",
        "    model.eval()  # Chuyển sang chế độ đánh giá\n",
        "    images, _ = next(iter(test_loader))  # Lấy một batch từ tập kiểm tra (bỏ nhãn)\n",
        "    img = images[0].unsqueeze(0).to(device)  # Lấy ảnh đầu tiên, thêm chiều batch (1x1x28x28)\n",
        "\n",
        "    # Tính feature map từ conv1\n",
        "    conv1_output = torch.relu(model.conv1(img))  # Qua conv1 và ReLU, ra tensor 1x16x26x26\n",
        "\n",
        "    # Tính feature map từ conv2\n",
        "    conv2_output = torch.relu(model.conv2(model.pool(conv1_output)))  # Qua pooling và conv2, ra tensor 1x32x12x12\n",
        "\n",
        "    # Vẽ ảnh gốc và feature map\n",
        "    plt.figure(figsize=(20, 4))  # Mở rộng khung hình để chứa nhiều subplot\n",
        "\n",
        "    # Vẽ ảnh gốc\n",
        "    plt.subplot(1, 5, 1)\n",
        "    plt.title(\"Ảnh gốc\")\n",
        "    plt.imshow(img.cpu().squeeze(), cmap='gray')\n",
        "    plt.axis('off')\n",
        "\n",
        "    # Vẽ feature map thứ nhất từ conv1\n",
        "    plt.subplot(1, 5, 2)\n",
        "    plt.title(\"Conv1 Feature Map 1\")\n",
        "    plt.imshow(conv1_output[0, 0].cpu().detach().numpy(), cmap='gray')\n",
        "    plt.axis('off')\n",
        "\n",
        "    # Vẽ feature map thứ hai từ conv1\n",
        "    plt.subplot(1, 5, 3)\n",
        "    plt.title(\"Conv1 Feature Map 2\")\n",
        "    plt.imshow(conv1_output[0, 1].cpu().detach().numpy(), cmap='gray')\n",
        "    plt.axis('off')\n",
        "\n",
        "    # Vẽ feature map thứ nhất từ conv2\n",
        "    plt.subplot(1, 5, 4)\n",
        "    plt.title(\"Conv2 Feature Map 1\")\n",
        "    plt.imshow(conv2_output[0, 0].cpu().detach().numpy(), cmap='gray')\n",
        "    plt.axis('off')\n",
        "\n",
        "    # Vẽ feature map thứ hai từ conv2\n",
        "    plt.subplot(1, 5, 5)\n",
        "    plt.title(\"Conv2 Feature Map 2\")\n",
        "    plt.imshow(conv2_output[0, 1].cpu().detach().numpy(), cmap='gray')\n",
        "    plt.axis('off')\n",
        "\n",
        "    plt.tight_layout()  # Điều chỉnh layout để tránh chồng chéo\n",
        "    plt.show()\n",
        "\n",
        "visualize_feature_map()"
      ],
      "metadata": {
        "colab": {
          "base_uri": "https://localhost:8080/",
          "height": 391
        },
        "id": "M9Q0ymnSW55r",
        "outputId": "346d5e70-2a4f-4ec7-c4e1-51bd2fc92da2"
      },
      "execution_count": null,
      "outputs": [
        {
          "output_type": "display_data",
          "data": {
            "text/plain": [
              "<Figure size 2000x400 with 5 Axes>"
            ],
            "image/png": "[encoded data removed]"
          },
          "metadata": {}
        }
      ]
    },
    {
      "cell_type": "markdown",
      "source": [
        "Qua hình ảnh, có thể thấy feature map từ conv1 (ở giữa) vẫn giữ được hình dáng của số 7 với các đường nét khá rõ ràng. Sang tầng conv2 (bên phải), feature map trở nên trừu tượng hơn, với các chi tiết được rút gọn thành các vùng sáng tối đơn giản, thể hiện quá trình trích xuất các đặc trưng ngày càng phức tạp và khái quát hơn của mạng nơ-ron tích chập."
      ],
      "metadata": {
        "id": "ZfoN694JYV3f"
      }
    }
  ],
  "metadata": {
    "kernelspec": {
      "display_name": "Python 3",
      "name": "python3"
    },
    "language_info": {
      "codemirror_mode": {
        "name": "ipython",
        "version": 3
      },
      "file_extension": ".py",
      "mimetype": "text/x-python",
      "name": "python",
      "nbconvert_exporter": "python",
      "pygments_lexer": "ipython3",
      "version": "3.10.8"
    },
    "colab": {
      "provenance": [],
      "gpuType": "T4"
    },
    "accelerator": "GPU"
  },
  "nbformat": 4,
  "nbformat_minor": 0
}